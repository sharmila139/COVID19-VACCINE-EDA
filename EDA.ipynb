{
 "cells": [
  {
   "cell_type": "markdown",
   "metadata": {},
   "source": [
    "# Covid-19 World Vaccine Progress\n",
    "\n",
    "        The world is in the midst of a COVID-19 pandemic. Vaccines save millions of lives each year. Vaccines work by training and preparing the body’s natural defences \"The Immune System\" to recognize and fight off the viruse and bacteria they target. Many vaccines have been developed by different countries for *SARS-Cov 2*\n",
    "    Some of them are listed below:\n",
    "     💉 Pfizer–BioNTech\n",
    "     💉 Oxford\n",
    "     💉 Moderna\n",
    "     💉 Sputnik V\n",
    "     💉 Covaxin\n",
    "\n",
    "\n",
    "The Libraries and the functions used for this project were learnt from the course [Data Analysis with Python: Zero to Pandas](zerotopandas.com)."
   ]
  },
  {
   "cell_type": "markdown",
   "metadata": {},
   "source": [
    "# Covid-19 World Vaccine Analysis\n",
    "\n",
    "![alt text](https://i.ytimg.com/vi/6ixFjJmOx7g/maxresdefault.jpg \"World Vaccine Progress\")"
   ]
  },
  {
   "cell_type": "markdown",
   "metadata": {},
   "source": [
    "## Downloading the Dataset\n",
    "\n",
    "**TODO** - Download and extract the dataset from [kaggle](https://www.kaggle.com/gpreda/covid-world-vaccination-progress)  and then convert it into a dataframe. "
   ]
  },
  {
   "cell_type": "code",
   "execution_count": 2,
   "metadata": {},
   "outputs": [],
   "source": [
    "!pip install jovian opendatasets --upgrade --quiet"
   ]
  },
  {
   "cell_type": "markdown",
   "metadata": {},
   "source": [
    "Let's begin by downloading the data, and listing the files within the dataset."
   ]
  },
  {
   "cell_type": "code",
   "execution_count": 3,
   "metadata": {},
   "outputs": [],
   "source": [
    "dataset_url = 'https://www.kaggle.com/gpreda/covid-world-vaccination-progress' "
   ]
  },
  {
   "cell_type": "code",
   "execution_count": 4,
   "metadata": {},
   "outputs": [
    {
     "name": "stdout",
     "output_type": "stream",
     "text": [
      "Please provide your Kaggle credentials to download this dataset. Learn more: http://bit.ly/kaggle-creds\n",
      "Your Kaggle username: sarathkumar2203\n",
      "Your Kaggle Key: ········\n"
     ]
    },
    {
     "name": "stderr",
     "output_type": "stream",
     "text": [
      "100%|██████████| 143k/143k [00:00<00:00, 19.8MB/s]"
     ]
    },
    {
     "name": "stdout",
     "output_type": "stream",
     "text": [
      "Downloading covid-world-vaccination-progress.zip to ./covid-world-vaccination-progress\n",
      "\n"
     ]
    },
    {
     "name": "stderr",
     "output_type": "stream",
     "text": [
      "\n"
     ]
    }
   ],
   "source": [
    "import opendatasets as od\n",
    "od.download(dataset_url)"
   ]
  },
  {
   "cell_type": "markdown",
   "metadata": {},
   "source": [
    "The dataset has been downloaded and extracted."
   ]
  },
  {
   "cell_type": "code",
   "execution_count": 5,
   "metadata": {},
   "outputs": [],
   "source": [
    "data_dir = './covid-world-vaccination-progress'"
   ]
  },
  {
   "cell_type": "code",
   "execution_count": 6,
   "metadata": {},
   "outputs": [
    {
     "data": {
      "text/plain": [
       "['country_vaccinations.csv']"
      ]
     },
     "execution_count": 6,
     "metadata": {},
     "output_type": "execute_result"
    }
   ],
   "source": [
    "import os\n",
    "os.listdir(data_dir)"
   ]
  },
  {
   "cell_type": "code",
   "execution_count": 7,
   "metadata": {},
   "outputs": [],
   "source": [
    "project_name = \"covid-19-world-vaccine-data-analysis\" "
   ]
  },
  {
   "cell_type": "code",
   "execution_count": 8,
   "metadata": {},
   "outputs": [],
   "source": [
    "!pip install jovian --upgrade -q"
   ]
  },
  {
   "cell_type": "code",
   "execution_count": 9,
   "metadata": {},
   "outputs": [],
   "source": [
    "import jovian"
   ]
  },
  {
   "cell_type": "code",
   "execution_count": 10,
   "metadata": {},
   "outputs": [
    {
     "data": {
      "application/javascript": [
       "window.require && require([\"base/js/namespace\"],function(Jupyter){Jupyter.notebook.save_checkpoint()})"
      ],
      "text/plain": [
       "<IPython.core.display.Javascript object>"
      ]
     },
     "metadata": {},
     "output_type": "display_data"
    },
    {
     "name": "stdout",
     "output_type": "stream",
     "text": [
      "[jovian] Attempting to save notebook..\u001b[0m\n",
      "[jovian] Updating notebook \"kumar-223/covid-19-world-vaccine-data-analysis\" on https://jovian.ai\u001b[0m\n",
      "[jovian] Uploading notebook..\u001b[0m\n",
      "[jovian] Uploading additional files...\u001b[0m\n",
      "[jovian] Committed successfully! https://jovian.ai/kumar-223/covid-19-world-vaccine-data-analysis\u001b[0m\n"
     ]
    },
    {
     "data": {
      "text/plain": [
       "'https://jovian.ai/kumar-223/covid-19-world-vaccine-data-analysis'"
      ]
     },
     "execution_count": 10,
     "metadata": {},
     "output_type": "execute_result"
    }
   ],
   "source": [
    "jovian.commit(project = project_name)"
   ]
  },
  {
   "cell_type": "markdown",
   "metadata": {},
   "source": [
    "## Data Preparation and Cleaning\n",
    "\n",
    "\n",
    "- clean and transform raw data prior to processing and analysis.\n",
    "- make corrections to data and to handle missing, invalid data.\n",
    "- Perform any additional steps (parsing dates, creating additional columns, merging multiple dataset etc.)"
   ]
  },
  {
   "cell_type": "code",
   "execution_count": 11,
   "metadata": {},
   "outputs": [],
   "source": [
    "import pandas as pd"
   ]
  },
  {
   "cell_type": "code",
   "execution_count": 12,
   "metadata": {},
   "outputs": [],
   "source": [
    "vaccine_df = pd.read_csv('covid-world-vaccination-progress/country_vaccinations.csv')"
   ]
  },
  {
   "cell_type": "markdown",
   "metadata": {},
   "source": [
    "reads the csv file and converts it into a *Dataframe*."
   ]
  },
  {
   "cell_type": "code",
   "execution_count": 13,
   "metadata": {},
   "outputs": [
    {
     "data": {
      "text/html": [
       "<div>\n",
       "<style scoped>\n",
       "    .dataframe tbody tr th:only-of-type {\n",
       "        vertical-align: middle;\n",
       "    }\n",
       "\n",
       "    .dataframe tbody tr th {\n",
       "        vertical-align: top;\n",
       "    }\n",
       "\n",
       "    .dataframe thead th {\n",
       "        text-align: right;\n",
       "    }\n",
       "</style>\n",
       "<table border=\"1\" class=\"dataframe\">\n",
       "  <thead>\n",
       "    <tr style=\"text-align: right;\">\n",
       "      <th></th>\n",
       "      <th>country</th>\n",
       "      <th>iso_code</th>\n",
       "      <th>date</th>\n",
       "      <th>total_vaccinations</th>\n",
       "      <th>people_vaccinated</th>\n",
       "      <th>people_fully_vaccinated</th>\n",
       "      <th>daily_vaccinations_raw</th>\n",
       "      <th>daily_vaccinations</th>\n",
       "      <th>total_vaccinations_per_hundred</th>\n",
       "      <th>people_vaccinated_per_hundred</th>\n",
       "      <th>people_fully_vaccinated_per_hundred</th>\n",
       "      <th>daily_vaccinations_per_million</th>\n",
       "      <th>vaccines</th>\n",
       "      <th>source_name</th>\n",
       "      <th>source_website</th>\n",
       "    </tr>\n",
       "  </thead>\n",
       "  <tbody>\n",
       "    <tr>\n",
       "      <th>0</th>\n",
       "      <td>Albania</td>\n",
       "      <td>ALB</td>\n",
       "      <td>2021-01-10</td>\n",
       "      <td>0.0</td>\n",
       "      <td>0.0</td>\n",
       "      <td>NaN</td>\n",
       "      <td>NaN</td>\n",
       "      <td>NaN</td>\n",
       "      <td>0.00</td>\n",
       "      <td>0.00</td>\n",
       "      <td>NaN</td>\n",
       "      <td>NaN</td>\n",
       "      <td>Pfizer/BioNTech</td>\n",
       "      <td>Ministry of Health</td>\n",
       "      <td>https://shendetesia.gov.al/covid19-ministria-e...</td>\n",
       "    </tr>\n",
       "    <tr>\n",
       "      <th>1</th>\n",
       "      <td>Albania</td>\n",
       "      <td>ALB</td>\n",
       "      <td>2021-01-11</td>\n",
       "      <td>NaN</td>\n",
       "      <td>NaN</td>\n",
       "      <td>NaN</td>\n",
       "      <td>NaN</td>\n",
       "      <td>64.0</td>\n",
       "      <td>NaN</td>\n",
       "      <td>NaN</td>\n",
       "      <td>NaN</td>\n",
       "      <td>22.0</td>\n",
       "      <td>Pfizer/BioNTech</td>\n",
       "      <td>Ministry of Health</td>\n",
       "      <td>https://shendetesia.gov.al/covid19-ministria-e...</td>\n",
       "    </tr>\n",
       "    <tr>\n",
       "      <th>2</th>\n",
       "      <td>Albania</td>\n",
       "      <td>ALB</td>\n",
       "      <td>2021-01-12</td>\n",
       "      <td>128.0</td>\n",
       "      <td>128.0</td>\n",
       "      <td>NaN</td>\n",
       "      <td>NaN</td>\n",
       "      <td>64.0</td>\n",
       "      <td>0.00</td>\n",
       "      <td>0.00</td>\n",
       "      <td>NaN</td>\n",
       "      <td>22.0</td>\n",
       "      <td>Pfizer/BioNTech</td>\n",
       "      <td>Ministry of Health</td>\n",
       "      <td>https://shendetesia.gov.al/covid19-ministria-e...</td>\n",
       "    </tr>\n",
       "    <tr>\n",
       "      <th>3</th>\n",
       "      <td>Albania</td>\n",
       "      <td>ALB</td>\n",
       "      <td>2021-01-13</td>\n",
       "      <td>188.0</td>\n",
       "      <td>188.0</td>\n",
       "      <td>NaN</td>\n",
       "      <td>60.0</td>\n",
       "      <td>63.0</td>\n",
       "      <td>0.01</td>\n",
       "      <td>0.01</td>\n",
       "      <td>NaN</td>\n",
       "      <td>22.0</td>\n",
       "      <td>Pfizer/BioNTech</td>\n",
       "      <td>Ministry of Health</td>\n",
       "      <td>https://shendetesia.gov.al/covid19-ministria-e...</td>\n",
       "    </tr>\n",
       "    <tr>\n",
       "      <th>4</th>\n",
       "      <td>Albania</td>\n",
       "      <td>ALB</td>\n",
       "      <td>2021-01-14</td>\n",
       "      <td>266.0</td>\n",
       "      <td>266.0</td>\n",
       "      <td>NaN</td>\n",
       "      <td>78.0</td>\n",
       "      <td>66.0</td>\n",
       "      <td>0.01</td>\n",
       "      <td>0.01</td>\n",
       "      <td>NaN</td>\n",
       "      <td>23.0</td>\n",
       "      <td>Pfizer/BioNTech</td>\n",
       "      <td>Ministry of Health</td>\n",
       "      <td>https://shendetesia.gov.al/covid19-ministria-e...</td>\n",
       "    </tr>\n",
       "    <tr>\n",
       "      <th>...</th>\n",
       "      <td>...</td>\n",
       "      <td>...</td>\n",
       "      <td>...</td>\n",
       "      <td>...</td>\n",
       "      <td>...</td>\n",
       "      <td>...</td>\n",
       "      <td>...</td>\n",
       "      <td>...</td>\n",
       "      <td>...</td>\n",
       "      <td>...</td>\n",
       "      <td>...</td>\n",
       "      <td>...</td>\n",
       "      <td>...</td>\n",
       "      <td>...</td>\n",
       "      <td>...</td>\n",
       "    </tr>\n",
       "    <tr>\n",
       "      <th>6320</th>\n",
       "      <td>Zimbabwe</td>\n",
       "      <td>ZWE</td>\n",
       "      <td>2021-03-10</td>\n",
       "      <td>35901.0</td>\n",
       "      <td>35901.0</td>\n",
       "      <td>NaN</td>\n",
       "      <td>140.0</td>\n",
       "      <td>1133.0</td>\n",
       "      <td>0.24</td>\n",
       "      <td>0.24</td>\n",
       "      <td>NaN</td>\n",
       "      <td>76.0</td>\n",
       "      <td>Sinopharm/Beijing</td>\n",
       "      <td>Ministry of Health</td>\n",
       "      <td>https://twitter.com/MoHCCZim/status/1371179269...</td>\n",
       "    </tr>\n",
       "    <tr>\n",
       "      <th>6321</th>\n",
       "      <td>Zimbabwe</td>\n",
       "      <td>ZWE</td>\n",
       "      <td>2021-03-11</td>\n",
       "      <td>36019.0</td>\n",
       "      <td>36019.0</td>\n",
       "      <td>NaN</td>\n",
       "      <td>118.0</td>\n",
       "      <td>766.0</td>\n",
       "      <td>0.24</td>\n",
       "      <td>0.24</td>\n",
       "      <td>NaN</td>\n",
       "      <td>52.0</td>\n",
       "      <td>Sinopharm/Beijing</td>\n",
       "      <td>Ministry of Health</td>\n",
       "      <td>https://twitter.com/MoHCCZim/status/1371179269...</td>\n",
       "    </tr>\n",
       "    <tr>\n",
       "      <th>6322</th>\n",
       "      <td>Zimbabwe</td>\n",
       "      <td>ZWE</td>\n",
       "      <td>2021-03-12</td>\n",
       "      <td>36283.0</td>\n",
       "      <td>36283.0</td>\n",
       "      <td>NaN</td>\n",
       "      <td>264.0</td>\n",
       "      <td>708.0</td>\n",
       "      <td>0.24</td>\n",
       "      <td>0.24</td>\n",
       "      <td>NaN</td>\n",
       "      <td>48.0</td>\n",
       "      <td>Sinopharm/Beijing</td>\n",
       "      <td>Ministry of Health</td>\n",
       "      <td>https://twitter.com/MoHCCZim/status/1371179269...</td>\n",
       "    </tr>\n",
       "    <tr>\n",
       "      <th>6323</th>\n",
       "      <td>Zimbabwe</td>\n",
       "      <td>ZWE</td>\n",
       "      <td>2021-03-13</td>\n",
       "      <td>36359.0</td>\n",
       "      <td>36359.0</td>\n",
       "      <td>NaN</td>\n",
       "      <td>76.0</td>\n",
       "      <td>621.0</td>\n",
       "      <td>0.24</td>\n",
       "      <td>0.24</td>\n",
       "      <td>NaN</td>\n",
       "      <td>42.0</td>\n",
       "      <td>Sinopharm/Beijing</td>\n",
       "      <td>Ministry of Health</td>\n",
       "      <td>https://twitter.com/MoHCCZim/status/1371179269...</td>\n",
       "    </tr>\n",
       "    <tr>\n",
       "      <th>6324</th>\n",
       "      <td>Zimbabwe</td>\n",
       "      <td>ZWE</td>\n",
       "      <td>2021-03-14</td>\n",
       "      <td>36359.0</td>\n",
       "      <td>36359.0</td>\n",
       "      <td>NaN</td>\n",
       "      <td>0.0</td>\n",
       "      <td>588.0</td>\n",
       "      <td>0.24</td>\n",
       "      <td>0.24</td>\n",
       "      <td>NaN</td>\n",
       "      <td>40.0</td>\n",
       "      <td>Sinopharm/Beijing</td>\n",
       "      <td>Ministry of Health</td>\n",
       "      <td>https://twitter.com/MoHCCZim/status/1371179269...</td>\n",
       "    </tr>\n",
       "  </tbody>\n",
       "</table>\n",
       "<p>6325 rows × 15 columns</p>\n",
       "</div>"
      ],
      "text/plain": [
       "       country iso_code        date  total_vaccinations  people_vaccinated  \\\n",
       "0      Albania      ALB  2021-01-10                 0.0                0.0   \n",
       "1      Albania      ALB  2021-01-11                 NaN                NaN   \n",
       "2      Albania      ALB  2021-01-12               128.0              128.0   \n",
       "3      Albania      ALB  2021-01-13               188.0              188.0   \n",
       "4      Albania      ALB  2021-01-14               266.0              266.0   \n",
       "...        ...      ...         ...                 ...                ...   \n",
       "6320  Zimbabwe      ZWE  2021-03-10             35901.0            35901.0   \n",
       "6321  Zimbabwe      ZWE  2021-03-11             36019.0            36019.0   \n",
       "6322  Zimbabwe      ZWE  2021-03-12             36283.0            36283.0   \n",
       "6323  Zimbabwe      ZWE  2021-03-13             36359.0            36359.0   \n",
       "6324  Zimbabwe      ZWE  2021-03-14             36359.0            36359.0   \n",
       "\n",
       "      people_fully_vaccinated  daily_vaccinations_raw  daily_vaccinations  \\\n",
       "0                         NaN                     NaN                 NaN   \n",
       "1                         NaN                     NaN                64.0   \n",
       "2                         NaN                     NaN                64.0   \n",
       "3                         NaN                    60.0                63.0   \n",
       "4                         NaN                    78.0                66.0   \n",
       "...                       ...                     ...                 ...   \n",
       "6320                      NaN                   140.0              1133.0   \n",
       "6321                      NaN                   118.0               766.0   \n",
       "6322                      NaN                   264.0               708.0   \n",
       "6323                      NaN                    76.0               621.0   \n",
       "6324                      NaN                     0.0               588.0   \n",
       "\n",
       "      total_vaccinations_per_hundred  people_vaccinated_per_hundred  \\\n",
       "0                               0.00                           0.00   \n",
       "1                                NaN                            NaN   \n",
       "2                               0.00                           0.00   \n",
       "3                               0.01                           0.01   \n",
       "4                               0.01                           0.01   \n",
       "...                              ...                            ...   \n",
       "6320                            0.24                           0.24   \n",
       "6321                            0.24                           0.24   \n",
       "6322                            0.24                           0.24   \n",
       "6323                            0.24                           0.24   \n",
       "6324                            0.24                           0.24   \n",
       "\n",
       "      people_fully_vaccinated_per_hundred  daily_vaccinations_per_million  \\\n",
       "0                                     NaN                             NaN   \n",
       "1                                     NaN                            22.0   \n",
       "2                                     NaN                            22.0   \n",
       "3                                     NaN                            22.0   \n",
       "4                                     NaN                            23.0   \n",
       "...                                   ...                             ...   \n",
       "6320                                  NaN                            76.0   \n",
       "6321                                  NaN                            52.0   \n",
       "6322                                  NaN                            48.0   \n",
       "6323                                  NaN                            42.0   \n",
       "6324                                  NaN                            40.0   \n",
       "\n",
       "               vaccines         source_name  \\\n",
       "0       Pfizer/BioNTech  Ministry of Health   \n",
       "1       Pfizer/BioNTech  Ministry of Health   \n",
       "2       Pfizer/BioNTech  Ministry of Health   \n",
       "3       Pfizer/BioNTech  Ministry of Health   \n",
       "4       Pfizer/BioNTech  Ministry of Health   \n",
       "...                 ...                 ...   \n",
       "6320  Sinopharm/Beijing  Ministry of Health   \n",
       "6321  Sinopharm/Beijing  Ministry of Health   \n",
       "6322  Sinopharm/Beijing  Ministry of Health   \n",
       "6323  Sinopharm/Beijing  Ministry of Health   \n",
       "6324  Sinopharm/Beijing  Ministry of Health   \n",
       "\n",
       "                                         source_website  \n",
       "0     https://shendetesia.gov.al/covid19-ministria-e...  \n",
       "1     https://shendetesia.gov.al/covid19-ministria-e...  \n",
       "2     https://shendetesia.gov.al/covid19-ministria-e...  \n",
       "3     https://shendetesia.gov.al/covid19-ministria-e...  \n",
       "4     https://shendetesia.gov.al/covid19-ministria-e...  \n",
       "...                                                 ...  \n",
       "6320  https://twitter.com/MoHCCZim/status/1371179269...  \n",
       "6321  https://twitter.com/MoHCCZim/status/1371179269...  \n",
       "6322  https://twitter.com/MoHCCZim/status/1371179269...  \n",
       "6323  https://twitter.com/MoHCCZim/status/1371179269...  \n",
       "6324  https://twitter.com/MoHCCZim/status/1371179269...  \n",
       "\n",
       "[6325 rows x 15 columns]"
      ]
     },
     "execution_count": 13,
     "metadata": {},
     "output_type": "execute_result"
    }
   ],
   "source": [
    "vaccine_df"
   ]
  },
  {
   "cell_type": "code",
   "execution_count": 14,
   "metadata": {},
   "outputs": [
    {
     "name": "stdout",
     "output_type": "stream",
     "text": [
      "<class 'pandas.core.frame.DataFrame'>\n",
      "RangeIndex: 6325 entries, 0 to 6324\n",
      "Data columns (total 15 columns):\n",
      " #   Column                               Non-Null Count  Dtype  \n",
      "---  ------                               --------------  -----  \n",
      " 0   country                              6325 non-null   object \n",
      " 1   iso_code                             5961 non-null   object \n",
      " 2   date                                 6325 non-null   object \n",
      " 3   total_vaccinations                   4059 non-null   float64\n",
      " 4   people_vaccinated                    3612 non-null   float64\n",
      " 5   people_fully_vaccinated              2456 non-null   float64\n",
      " 6   daily_vaccinations_raw               3427 non-null   float64\n",
      " 7   daily_vaccinations                   6131 non-null   float64\n",
      " 8   total_vaccinations_per_hundred       4059 non-null   float64\n",
      " 9   people_vaccinated_per_hundred        3612 non-null   float64\n",
      " 10  people_fully_vaccinated_per_hundred  2456 non-null   float64\n",
      " 11  daily_vaccinations_per_million       6131 non-null   float64\n",
      " 12  vaccines                             6325 non-null   object \n",
      " 13  source_name                          6325 non-null   object \n",
      " 14  source_website                       6325 non-null   object \n",
      "dtypes: float64(9), object(6)\n",
      "memory usage: 741.3+ KB\n"
     ]
    }
   ],
   "source": [
    "vaccine_df.info()"
   ]
  },
  {
   "cell_type": "code",
   "execution_count": 15,
   "metadata": {},
   "outputs": [
    {
     "data": {
      "text/html": [
       "<div>\n",
       "<style scoped>\n",
       "    .dataframe tbody tr th:only-of-type {\n",
       "        vertical-align: middle;\n",
       "    }\n",
       "\n",
       "    .dataframe tbody tr th {\n",
       "        vertical-align: top;\n",
       "    }\n",
       "\n",
       "    .dataframe thead th {\n",
       "        text-align: right;\n",
       "    }\n",
       "</style>\n",
       "<table border=\"1\" class=\"dataframe\">\n",
       "  <thead>\n",
       "    <tr style=\"text-align: right;\">\n",
       "      <th></th>\n",
       "      <th>total_vaccinations</th>\n",
       "      <th>people_vaccinated</th>\n",
       "      <th>people_fully_vaccinated</th>\n",
       "      <th>daily_vaccinations_raw</th>\n",
       "      <th>daily_vaccinations</th>\n",
       "      <th>total_vaccinations_per_hundred</th>\n",
       "      <th>people_vaccinated_per_hundred</th>\n",
       "      <th>people_fully_vaccinated_per_hundred</th>\n",
       "      <th>daily_vaccinations_per_million</th>\n",
       "    </tr>\n",
       "  </thead>\n",
       "  <tbody>\n",
       "    <tr>\n",
       "      <th>count</th>\n",
       "      <td>4.059000e+03</td>\n",
       "      <td>3.612000e+03</td>\n",
       "      <td>2.456000e+03</td>\n",
       "      <td>3.427000e+03</td>\n",
       "      <td>6.131000e+03</td>\n",
       "      <td>4059.000000</td>\n",
       "      <td>3612.000000</td>\n",
       "      <td>2456.000000</td>\n",
       "      <td>6131.000000</td>\n",
       "    </tr>\n",
       "    <tr>\n",
       "      <th>mean</th>\n",
       "      <td>2.205825e+06</td>\n",
       "      <td>1.813410e+06</td>\n",
       "      <td>7.163325e+05</td>\n",
       "      <td>8.409281e+04</td>\n",
       "      <td>5.834689e+04</td>\n",
       "      <td>8.851259</td>\n",
       "      <td>6.864009</td>\n",
       "      <td>3.058371</td>\n",
       "      <td>2568.415430</td>\n",
       "    </tr>\n",
       "    <tr>\n",
       "      <th>std</th>\n",
       "      <td>7.720102e+06</td>\n",
       "      <td>5.802202e+06</td>\n",
       "      <td>2.886542e+06</td>\n",
       "      <td>2.535361e+05</td>\n",
       "      <td>1.927478e+05</td>\n",
       "      <td>16.190116</td>\n",
       "      <td>11.141742</td>\n",
       "      <td>6.783997</td>\n",
       "      <td>4286.002346</td>\n",
       "    </tr>\n",
       "    <tr>\n",
       "      <th>min</th>\n",
       "      <td>0.000000e+00</td>\n",
       "      <td>0.000000e+00</td>\n",
       "      <td>1.000000e+00</td>\n",
       "      <td>0.000000e+00</td>\n",
       "      <td>1.000000e+00</td>\n",
       "      <td>0.000000</td>\n",
       "      <td>0.000000</td>\n",
       "      <td>0.000000</td>\n",
       "      <td>0.000000</td>\n",
       "    </tr>\n",
       "    <tr>\n",
       "      <th>25%</th>\n",
       "      <td>3.609250e+04</td>\n",
       "      <td>3.399525e+04</td>\n",
       "      <td>1.664625e+04</td>\n",
       "      <td>2.654000e+03</td>\n",
       "      <td>1.121000e+03</td>\n",
       "      <td>0.690000</td>\n",
       "      <td>0.710000</td>\n",
       "      <td>0.330000</td>\n",
       "      <td>355.000000</td>\n",
       "    </tr>\n",
       "    <tr>\n",
       "      <th>50%</th>\n",
       "      <td>2.451770e+05</td>\n",
       "      <td>2.260720e+05</td>\n",
       "      <td>8.811350e+04</td>\n",
       "      <td>1.349400e+04</td>\n",
       "      <td>6.657000e+03</td>\n",
       "      <td>3.310000</td>\n",
       "      <td>2.930000</td>\n",
       "      <td>1.220000</td>\n",
       "      <td>1219.000000</td>\n",
       "    </tr>\n",
       "    <tr>\n",
       "      <th>75%</th>\n",
       "      <td>1.142525e+06</td>\n",
       "      <td>9.277102e+05</td>\n",
       "      <td>4.412902e+05</td>\n",
       "      <td>5.670650e+04</td>\n",
       "      <td>2.879150e+04</td>\n",
       "      <td>9.035000</td>\n",
       "      <td>7.082500</td>\n",
       "      <td>2.690000</td>\n",
       "      <td>2731.500000</td>\n",
       "    </tr>\n",
       "    <tr>\n",
       "      <th>max</th>\n",
       "      <td>1.070603e+08</td>\n",
       "      <td>6.978421e+07</td>\n",
       "      <td>3.745927e+07</td>\n",
       "      <td>4.575496e+06</td>\n",
       "      <td>2.541597e+06</td>\n",
       "      <td>136.940000</td>\n",
       "      <td>87.890000</td>\n",
       "      <td>49.050000</td>\n",
       "      <td>54264.000000</td>\n",
       "    </tr>\n",
       "  </tbody>\n",
       "</table>\n",
       "</div>"
      ],
      "text/plain": [
       "       total_vaccinations  people_vaccinated  people_fully_vaccinated  \\\n",
       "count        4.059000e+03       3.612000e+03             2.456000e+03   \n",
       "mean         2.205825e+06       1.813410e+06             7.163325e+05   \n",
       "std          7.720102e+06       5.802202e+06             2.886542e+06   \n",
       "min          0.000000e+00       0.000000e+00             1.000000e+00   \n",
       "25%          3.609250e+04       3.399525e+04             1.664625e+04   \n",
       "50%          2.451770e+05       2.260720e+05             8.811350e+04   \n",
       "75%          1.142525e+06       9.277102e+05             4.412902e+05   \n",
       "max          1.070603e+08       6.978421e+07             3.745927e+07   \n",
       "\n",
       "       daily_vaccinations_raw  daily_vaccinations  \\\n",
       "count            3.427000e+03        6.131000e+03   \n",
       "mean             8.409281e+04        5.834689e+04   \n",
       "std              2.535361e+05        1.927478e+05   \n",
       "min              0.000000e+00        1.000000e+00   \n",
       "25%              2.654000e+03        1.121000e+03   \n",
       "50%              1.349400e+04        6.657000e+03   \n",
       "75%              5.670650e+04        2.879150e+04   \n",
       "max              4.575496e+06        2.541597e+06   \n",
       "\n",
       "       total_vaccinations_per_hundred  people_vaccinated_per_hundred  \\\n",
       "count                     4059.000000                    3612.000000   \n",
       "mean                         8.851259                       6.864009   \n",
       "std                         16.190116                      11.141742   \n",
       "min                          0.000000                       0.000000   \n",
       "25%                          0.690000                       0.710000   \n",
       "50%                          3.310000                       2.930000   \n",
       "75%                          9.035000                       7.082500   \n",
       "max                        136.940000                      87.890000   \n",
       "\n",
       "       people_fully_vaccinated_per_hundred  daily_vaccinations_per_million  \n",
       "count                          2456.000000                     6131.000000  \n",
       "mean                              3.058371                     2568.415430  \n",
       "std                               6.783997                     4286.002346  \n",
       "min                               0.000000                        0.000000  \n",
       "25%                               0.330000                      355.000000  \n",
       "50%                               1.220000                     1219.000000  \n",
       "75%                               2.690000                     2731.500000  \n",
       "max                              49.050000                    54264.000000  "
      ]
     },
     "execution_count": 15,
     "metadata": {},
     "output_type": "execute_result"
    }
   ],
   "source": [
    "vaccine_df.describe()"
   ]
  },
  {
   "cell_type": "markdown",
   "metadata": {},
   "source": [
    "Drop the ISO codes as some countries lack it and it is not so uselful."
   ]
  },
  {
   "cell_type": "code",
   "execution_count": 16,
   "metadata": {},
   "outputs": [],
   "source": [
    "#Drop the iso_code\n",
    "vaccine_df.drop(['iso_code'], inplace = True, axis = 1)"
   ]
  },
  {
   "cell_type": "markdown",
   "metadata": {},
   "source": [
    "We are dropping the *ISO Code* as it is not useful for our analysis. ```inplace=True``` implies that it makes changes to the original dataframe."
   ]
  },
  {
   "cell_type": "code",
   "execution_count": 17,
   "metadata": {},
   "outputs": [
    {
     "data": {
      "text/html": [
       "<div>\n",
       "<style scoped>\n",
       "    .dataframe tbody tr th:only-of-type {\n",
       "        vertical-align: middle;\n",
       "    }\n",
       "\n",
       "    .dataframe tbody tr th {\n",
       "        vertical-align: top;\n",
       "    }\n",
       "\n",
       "    .dataframe thead th {\n",
       "        text-align: right;\n",
       "    }\n",
       "</style>\n",
       "<table border=\"1\" class=\"dataframe\">\n",
       "  <thead>\n",
       "    <tr style=\"text-align: right;\">\n",
       "      <th></th>\n",
       "      <th>country</th>\n",
       "      <th>date</th>\n",
       "      <th>total_vaccinations</th>\n",
       "      <th>people_vaccinated</th>\n",
       "      <th>people_fully_vaccinated</th>\n",
       "      <th>daily_vaccinations_raw</th>\n",
       "      <th>daily_vaccinations</th>\n",
       "      <th>total_vaccinations_per_hundred</th>\n",
       "      <th>people_vaccinated_per_hundred</th>\n",
       "      <th>people_fully_vaccinated_per_hundred</th>\n",
       "      <th>daily_vaccinations_per_million</th>\n",
       "      <th>vaccines</th>\n",
       "      <th>source_name</th>\n",
       "      <th>source_website</th>\n",
       "    </tr>\n",
       "  </thead>\n",
       "  <tbody>\n",
       "    <tr>\n",
       "      <th>0</th>\n",
       "      <td>Albania</td>\n",
       "      <td>2021-01-10</td>\n",
       "      <td>0.0</td>\n",
       "      <td>0.0</td>\n",
       "      <td>NaN</td>\n",
       "      <td>NaN</td>\n",
       "      <td>NaN</td>\n",
       "      <td>0.00</td>\n",
       "      <td>0.00</td>\n",
       "      <td>NaN</td>\n",
       "      <td>NaN</td>\n",
       "      <td>Pfizer/BioNTech</td>\n",
       "      <td>Ministry of Health</td>\n",
       "      <td>https://shendetesia.gov.al/covid19-ministria-e...</td>\n",
       "    </tr>\n",
       "    <tr>\n",
       "      <th>1</th>\n",
       "      <td>Albania</td>\n",
       "      <td>2021-01-11</td>\n",
       "      <td>NaN</td>\n",
       "      <td>NaN</td>\n",
       "      <td>NaN</td>\n",
       "      <td>NaN</td>\n",
       "      <td>64.0</td>\n",
       "      <td>NaN</td>\n",
       "      <td>NaN</td>\n",
       "      <td>NaN</td>\n",
       "      <td>22.0</td>\n",
       "      <td>Pfizer/BioNTech</td>\n",
       "      <td>Ministry of Health</td>\n",
       "      <td>https://shendetesia.gov.al/covid19-ministria-e...</td>\n",
       "    </tr>\n",
       "    <tr>\n",
       "      <th>2</th>\n",
       "      <td>Albania</td>\n",
       "      <td>2021-01-12</td>\n",
       "      <td>128.0</td>\n",
       "      <td>128.0</td>\n",
       "      <td>NaN</td>\n",
       "      <td>NaN</td>\n",
       "      <td>64.0</td>\n",
       "      <td>0.00</td>\n",
       "      <td>0.00</td>\n",
       "      <td>NaN</td>\n",
       "      <td>22.0</td>\n",
       "      <td>Pfizer/BioNTech</td>\n",
       "      <td>Ministry of Health</td>\n",
       "      <td>https://shendetesia.gov.al/covid19-ministria-e...</td>\n",
       "    </tr>\n",
       "    <tr>\n",
       "      <th>3</th>\n",
       "      <td>Albania</td>\n",
       "      <td>2021-01-13</td>\n",
       "      <td>188.0</td>\n",
       "      <td>188.0</td>\n",
       "      <td>NaN</td>\n",
       "      <td>60.0</td>\n",
       "      <td>63.0</td>\n",
       "      <td>0.01</td>\n",
       "      <td>0.01</td>\n",
       "      <td>NaN</td>\n",
       "      <td>22.0</td>\n",
       "      <td>Pfizer/BioNTech</td>\n",
       "      <td>Ministry of Health</td>\n",
       "      <td>https://shendetesia.gov.al/covid19-ministria-e...</td>\n",
       "    </tr>\n",
       "    <tr>\n",
       "      <th>4</th>\n",
       "      <td>Albania</td>\n",
       "      <td>2021-01-14</td>\n",
       "      <td>266.0</td>\n",
       "      <td>266.0</td>\n",
       "      <td>NaN</td>\n",
       "      <td>78.0</td>\n",
       "      <td>66.0</td>\n",
       "      <td>0.01</td>\n",
       "      <td>0.01</td>\n",
       "      <td>NaN</td>\n",
       "      <td>23.0</td>\n",
       "      <td>Pfizer/BioNTech</td>\n",
       "      <td>Ministry of Health</td>\n",
       "      <td>https://shendetesia.gov.al/covid19-ministria-e...</td>\n",
       "    </tr>\n",
       "    <tr>\n",
       "      <th>...</th>\n",
       "      <td>...</td>\n",
       "      <td>...</td>\n",
       "      <td>...</td>\n",
       "      <td>...</td>\n",
       "      <td>...</td>\n",
       "      <td>...</td>\n",
       "      <td>...</td>\n",
       "      <td>...</td>\n",
       "      <td>...</td>\n",
       "      <td>...</td>\n",
       "      <td>...</td>\n",
       "      <td>...</td>\n",
       "      <td>...</td>\n",
       "      <td>...</td>\n",
       "    </tr>\n",
       "    <tr>\n",
       "      <th>6320</th>\n",
       "      <td>Zimbabwe</td>\n",
       "      <td>2021-03-10</td>\n",
       "      <td>35901.0</td>\n",
       "      <td>35901.0</td>\n",
       "      <td>NaN</td>\n",
       "      <td>140.0</td>\n",
       "      <td>1133.0</td>\n",
       "      <td>0.24</td>\n",
       "      <td>0.24</td>\n",
       "      <td>NaN</td>\n",
       "      <td>76.0</td>\n",
       "      <td>Sinopharm/Beijing</td>\n",
       "      <td>Ministry of Health</td>\n",
       "      <td>https://twitter.com/MoHCCZim/status/1371179269...</td>\n",
       "    </tr>\n",
       "    <tr>\n",
       "      <th>6321</th>\n",
       "      <td>Zimbabwe</td>\n",
       "      <td>2021-03-11</td>\n",
       "      <td>36019.0</td>\n",
       "      <td>36019.0</td>\n",
       "      <td>NaN</td>\n",
       "      <td>118.0</td>\n",
       "      <td>766.0</td>\n",
       "      <td>0.24</td>\n",
       "      <td>0.24</td>\n",
       "      <td>NaN</td>\n",
       "      <td>52.0</td>\n",
       "      <td>Sinopharm/Beijing</td>\n",
       "      <td>Ministry of Health</td>\n",
       "      <td>https://twitter.com/MoHCCZim/status/1371179269...</td>\n",
       "    </tr>\n",
       "    <tr>\n",
       "      <th>6322</th>\n",
       "      <td>Zimbabwe</td>\n",
       "      <td>2021-03-12</td>\n",
       "      <td>36283.0</td>\n",
       "      <td>36283.0</td>\n",
       "      <td>NaN</td>\n",
       "      <td>264.0</td>\n",
       "      <td>708.0</td>\n",
       "      <td>0.24</td>\n",
       "      <td>0.24</td>\n",
       "      <td>NaN</td>\n",
       "      <td>48.0</td>\n",
       "      <td>Sinopharm/Beijing</td>\n",
       "      <td>Ministry of Health</td>\n",
       "      <td>https://twitter.com/MoHCCZim/status/1371179269...</td>\n",
       "    </tr>\n",
       "    <tr>\n",
       "      <th>6323</th>\n",
       "      <td>Zimbabwe</td>\n",
       "      <td>2021-03-13</td>\n",
       "      <td>36359.0</td>\n",
       "      <td>36359.0</td>\n",
       "      <td>NaN</td>\n",
       "      <td>76.0</td>\n",
       "      <td>621.0</td>\n",
       "      <td>0.24</td>\n",
       "      <td>0.24</td>\n",
       "      <td>NaN</td>\n",
       "      <td>42.0</td>\n",
       "      <td>Sinopharm/Beijing</td>\n",
       "      <td>Ministry of Health</td>\n",
       "      <td>https://twitter.com/MoHCCZim/status/1371179269...</td>\n",
       "    </tr>\n",
       "    <tr>\n",
       "      <th>6324</th>\n",
       "      <td>Zimbabwe</td>\n",
       "      <td>2021-03-14</td>\n",
       "      <td>36359.0</td>\n",
       "      <td>36359.0</td>\n",
       "      <td>NaN</td>\n",
       "      <td>0.0</td>\n",
       "      <td>588.0</td>\n",
       "      <td>0.24</td>\n",
       "      <td>0.24</td>\n",
       "      <td>NaN</td>\n",
       "      <td>40.0</td>\n",
       "      <td>Sinopharm/Beijing</td>\n",
       "      <td>Ministry of Health</td>\n",
       "      <td>https://twitter.com/MoHCCZim/status/1371179269...</td>\n",
       "    </tr>\n",
       "  </tbody>\n",
       "</table>\n",
       "<p>6325 rows × 14 columns</p>\n",
       "</div>"
      ],
      "text/plain": [
       "       country        date  total_vaccinations  people_vaccinated  \\\n",
       "0      Albania  2021-01-10                 0.0                0.0   \n",
       "1      Albania  2021-01-11                 NaN                NaN   \n",
       "2      Albania  2021-01-12               128.0              128.0   \n",
       "3      Albania  2021-01-13               188.0              188.0   \n",
       "4      Albania  2021-01-14               266.0              266.0   \n",
       "...        ...         ...                 ...                ...   \n",
       "6320  Zimbabwe  2021-03-10             35901.0            35901.0   \n",
       "6321  Zimbabwe  2021-03-11             36019.0            36019.0   \n",
       "6322  Zimbabwe  2021-03-12             36283.0            36283.0   \n",
       "6323  Zimbabwe  2021-03-13             36359.0            36359.0   \n",
       "6324  Zimbabwe  2021-03-14             36359.0            36359.0   \n",
       "\n",
       "      people_fully_vaccinated  daily_vaccinations_raw  daily_vaccinations  \\\n",
       "0                         NaN                     NaN                 NaN   \n",
       "1                         NaN                     NaN                64.0   \n",
       "2                         NaN                     NaN                64.0   \n",
       "3                         NaN                    60.0                63.0   \n",
       "4                         NaN                    78.0                66.0   \n",
       "...                       ...                     ...                 ...   \n",
       "6320                      NaN                   140.0              1133.0   \n",
       "6321                      NaN                   118.0               766.0   \n",
       "6322                      NaN                   264.0               708.0   \n",
       "6323                      NaN                    76.0               621.0   \n",
       "6324                      NaN                     0.0               588.0   \n",
       "\n",
       "      total_vaccinations_per_hundred  people_vaccinated_per_hundred  \\\n",
       "0                               0.00                           0.00   \n",
       "1                                NaN                            NaN   \n",
       "2                               0.00                           0.00   \n",
       "3                               0.01                           0.01   \n",
       "4                               0.01                           0.01   \n",
       "...                              ...                            ...   \n",
       "6320                            0.24                           0.24   \n",
       "6321                            0.24                           0.24   \n",
       "6322                            0.24                           0.24   \n",
       "6323                            0.24                           0.24   \n",
       "6324                            0.24                           0.24   \n",
       "\n",
       "      people_fully_vaccinated_per_hundred  daily_vaccinations_per_million  \\\n",
       "0                                     NaN                             NaN   \n",
       "1                                     NaN                            22.0   \n",
       "2                                     NaN                            22.0   \n",
       "3                                     NaN                            22.0   \n",
       "4                                     NaN                            23.0   \n",
       "...                                   ...                             ...   \n",
       "6320                                  NaN                            76.0   \n",
       "6321                                  NaN                            52.0   \n",
       "6322                                  NaN                            48.0   \n",
       "6323                                  NaN                            42.0   \n",
       "6324                                  NaN                            40.0   \n",
       "\n",
       "               vaccines         source_name  \\\n",
       "0       Pfizer/BioNTech  Ministry of Health   \n",
       "1       Pfizer/BioNTech  Ministry of Health   \n",
       "2       Pfizer/BioNTech  Ministry of Health   \n",
       "3       Pfizer/BioNTech  Ministry of Health   \n",
       "4       Pfizer/BioNTech  Ministry of Health   \n",
       "...                 ...                 ...   \n",
       "6320  Sinopharm/Beijing  Ministry of Health   \n",
       "6321  Sinopharm/Beijing  Ministry of Health   \n",
       "6322  Sinopharm/Beijing  Ministry of Health   \n",
       "6323  Sinopharm/Beijing  Ministry of Health   \n",
       "6324  Sinopharm/Beijing  Ministry of Health   \n",
       "\n",
       "                                         source_website  \n",
       "0     https://shendetesia.gov.al/covid19-ministria-e...  \n",
       "1     https://shendetesia.gov.al/covid19-ministria-e...  \n",
       "2     https://shendetesia.gov.al/covid19-ministria-e...  \n",
       "3     https://shendetesia.gov.al/covid19-ministria-e...  \n",
       "4     https://shendetesia.gov.al/covid19-ministria-e...  \n",
       "...                                                 ...  \n",
       "6320  https://twitter.com/MoHCCZim/status/1371179269...  \n",
       "6321  https://twitter.com/MoHCCZim/status/1371179269...  \n",
       "6322  https://twitter.com/MoHCCZim/status/1371179269...  \n",
       "6323  https://twitter.com/MoHCCZim/status/1371179269...  \n",
       "6324  https://twitter.com/MoHCCZim/status/1371179269...  \n",
       "\n",
       "[6325 rows x 14 columns]"
      ]
     },
     "execution_count": 17,
     "metadata": {},
     "output_type": "execute_result"
    }
   ],
   "source": [
    "vaccine_df"
   ]
  },
  {
   "cell_type": "code",
   "execution_count": 172,
   "metadata": {},
   "outputs": [],
   "source": [
    "import jovian"
   ]
  },
  {
   "cell_type": "code",
   "execution_count": 173,
   "metadata": {},
   "outputs": [
    {
     "data": {
      "application/javascript": [
       "window.require && require([\"base/js/namespace\"],function(Jupyter){Jupyter.notebook.save_checkpoint()})"
      ],
      "text/plain": [
       "<IPython.core.display.Javascript object>"
      ]
     },
     "metadata": {},
     "output_type": "display_data"
    },
    {
     "name": "stdout",
     "output_type": "stream",
     "text": [
      "[jovian] Attempting to save notebook..\u001b[0m\n",
      "[jovian] Updating notebook \"kumar-223/covid-19-world-vaccine-data-analysis\" on https://jovian.ai\u001b[0m\n",
      "[jovian] Uploading notebook..\u001b[0m\n",
      "[jovian] Uploading additional files...\u001b[0m\n",
      "[jovian] Committed successfully! https://jovian.ai/kumar-223/covid-19-world-vaccine-data-analysis\u001b[0m\n"
     ]
    },
    {
     "data": {
      "text/plain": [
       "'https://jovian.ai/kumar-223/covid-19-world-vaccine-data-analysis'"
      ]
     },
     "execution_count": 173,
     "metadata": {},
     "output_type": "execute_result"
    }
   ],
   "source": [
    "jovian.commit(project=project_name)"
   ]
  },
  {
   "cell_type": "markdown",
   "metadata": {},
   "source": [
    "## Exploratory Analysis and Visualization\n",
    "\n",
    "- Explore distributions of numeric columns using histograms etc.\n",
    "- Make a note of interesting insights from the exploratory analysis"
   ]
  },
  {
   "cell_type": "markdown",
   "metadata": {},
   "source": [
    "Let's begin by importing`matplotlib.pyplot` and `seaborn`."
   ]
  },
  {
   "cell_type": "code",
   "execution_count": 20,
   "metadata": {},
   "outputs": [],
   "source": [
    "import seaborn as sns\n",
    "import matplotlib\n",
    "import matplotlib.pyplot as plt\n",
    "%matplotlib inline\n",
    "\n",
    "sns.set_style('darkgrid')\n",
    "matplotlib.rcParams['font.size'] = 14\n",
    "matplotlib.rcParams['figure.figsize'] = (9, 5)\n",
    "matplotlib.rcParams['figure.facecolor'] = '#00000000'"
   ]
  },
  {
   "cell_type": "markdown",
   "metadata": {},
   "source": [
    "Exploring one or more columns by plotting a graph below, and add some explanation about it"
   ]
  },
  {
   "cell_type": "code",
   "execution_count": 21,
   "metadata": {},
   "outputs": [],
   "source": [
    "description_df = vaccine_df.describe()"
   ]
  },
  {
   "cell_type": "code",
   "execution_count": 22,
   "metadata": {},
   "outputs": [
    {
     "data": {
      "image/png": "[encoded data removed]",
      "text/plain": [
       "<Figure size 648x360 with 1 Axes>"
      ]
     },
     "metadata": {
      "needs_background": "light"
     },
     "output_type": "display_data"
    }
   ],
   "source": [
    "plt.plot(description_df.total_vaccinations, marker='o');\n",
    "plt.plot(description_df.people_vaccinated, marker='*');\n",
    "plt.legend(['total_vaccinations', 'people_vaccinated']);"
   ]
  },
  {
   "cell_type": "code",
   "execution_count": 23,
   "metadata": {},
   "outputs": [
    {
     "data": {
      "image/png": "[encoded data removed]",
      "text/plain": [
       "<Figure size 648x360 with 1 Axes>"
      ]
     },
     "metadata": {
      "needs_background": "light"
     },
     "output_type": "display_data"
    }
   ],
   "source": [
    "plt.hist(vaccine_df.daily_vaccinations);\n",
    "plt.hist(vaccine_df.daily_vaccinations_raw);"
   ]
  },
  {
   "cell_type": "code",
   "execution_count": 24,
   "metadata": {},
   "outputs": [],
   "source": [
    "country_df = vaccine_df.groupby(['country', 'total_vaccinations_per_hundred'])"
   ]
  },
  {
   "cell_type": "markdown",
   "metadata": {},
   "source": [
    "We have grouped the data based on the ```country``` and ```total_vaccinations_per_hundred```"
   ]
  },
  {
   "cell_type": "code",
   "execution_count": 25,
   "metadata": {},
   "outputs": [
    {
     "data": {
      "text/html": [
       "<div>\n",
       "<style scoped>\n",
       "    .dataframe tbody tr th:only-of-type {\n",
       "        vertical-align: middle;\n",
       "    }\n",
       "\n",
       "    .dataframe tbody tr th {\n",
       "        vertical-align: top;\n",
       "    }\n",
       "\n",
       "    .dataframe thead tr th {\n",
       "        text-align: left;\n",
       "    }\n",
       "\n",
       "    .dataframe thead tr:last-of-type th {\n",
       "        text-align: right;\n",
       "    }\n",
       "</style>\n",
       "<table border=\"1\" class=\"dataframe\">\n",
       "  <thead>\n",
       "    <tr>\n",
       "      <th></th>\n",
       "      <th></th>\n",
       "      <th colspan=\"8\" halign=\"left\">total_vaccinations</th>\n",
       "      <th colspan=\"2\" halign=\"left\">people_vaccinated</th>\n",
       "      <th>...</th>\n",
       "      <th colspan=\"2\" halign=\"left\">people_fully_vaccinated_per_hundred</th>\n",
       "      <th colspan=\"8\" halign=\"left\">daily_vaccinations_per_million</th>\n",
       "    </tr>\n",
       "    <tr>\n",
       "      <th></th>\n",
       "      <th></th>\n",
       "      <th>count</th>\n",
       "      <th>mean</th>\n",
       "      <th>std</th>\n",
       "      <th>min</th>\n",
       "      <th>25%</th>\n",
       "      <th>50%</th>\n",
       "      <th>75%</th>\n",
       "      <th>max</th>\n",
       "      <th>count</th>\n",
       "      <th>mean</th>\n",
       "      <th>...</th>\n",
       "      <th>75%</th>\n",
       "      <th>max</th>\n",
       "      <th>count</th>\n",
       "      <th>mean</th>\n",
       "      <th>std</th>\n",
       "      <th>min</th>\n",
       "      <th>25%</th>\n",
       "      <th>50%</th>\n",
       "      <th>75%</th>\n",
       "      <th>max</th>\n",
       "    </tr>\n",
       "    <tr>\n",
       "      <th>country</th>\n",
       "      <th>total_vaccinations_per_hundred</th>\n",
       "      <th></th>\n",
       "      <th></th>\n",
       "      <th></th>\n",
       "      <th></th>\n",
       "      <th></th>\n",
       "      <th></th>\n",
       "      <th></th>\n",
       "      <th></th>\n",
       "      <th></th>\n",
       "      <th></th>\n",
       "      <th></th>\n",
       "      <th></th>\n",
       "      <th></th>\n",
       "      <th></th>\n",
       "      <th></th>\n",
       "      <th></th>\n",
       "      <th></th>\n",
       "      <th></th>\n",
       "      <th></th>\n",
       "      <th></th>\n",
       "      <th></th>\n",
       "    </tr>\n",
       "  </thead>\n",
       "  <tbody>\n",
       "    <tr>\n",
       "      <th rowspan=\"5\" valign=\"top\">Albania</th>\n",
       "      <th>0.00</th>\n",
       "      <td>2.0</td>\n",
       "      <td>64.000000</td>\n",
       "      <td>90.509668</td>\n",
       "      <td>0.0</td>\n",
       "      <td>32.00</td>\n",
       "      <td>64.0</td>\n",
       "      <td>96.00</td>\n",
       "      <td>128.0</td>\n",
       "      <td>2.0</td>\n",
       "      <td>64.000000</td>\n",
       "      <td>...</td>\n",
       "      <td>NaN</td>\n",
       "      <td>NaN</td>\n",
       "      <td>1.0</td>\n",
       "      <td>22.000000</td>\n",
       "      <td>NaN</td>\n",
       "      <td>22.0</td>\n",
       "      <td>22.00</td>\n",
       "      <td>22.0</td>\n",
       "      <td>22.00</td>\n",
       "      <td>22.0</td>\n",
       "    </tr>\n",
       "    <tr>\n",
       "      <th>0.01</th>\n",
       "      <td>5.0</td>\n",
       "      <td>307.200000</td>\n",
       "      <td>85.572776</td>\n",
       "      <td>188.0</td>\n",
       "      <td>266.00</td>\n",
       "      <td>308.0</td>\n",
       "      <td>369.00</td>\n",
       "      <td>405.0</td>\n",
       "      <td>5.0</td>\n",
       "      <td>307.200000</td>\n",
       "      <td>...</td>\n",
       "      <td>NaN</td>\n",
       "      <td>NaN</td>\n",
       "      <td>5.0</td>\n",
       "      <td>21.800000</td>\n",
       "      <td>1.095445</td>\n",
       "      <td>20.0</td>\n",
       "      <td>22.00</td>\n",
       "      <td>22.0</td>\n",
       "      <td>22.00</td>\n",
       "      <td>23.0</td>\n",
       "    </tr>\n",
       "    <tr>\n",
       "      <th>0.02</th>\n",
       "      <td>5.0</td>\n",
       "      <td>509.600000</td>\n",
       "      <td>44.438722</td>\n",
       "      <td>447.0</td>\n",
       "      <td>483.00</td>\n",
       "      <td>519.0</td>\n",
       "      <td>549.00</td>\n",
       "      <td>550.0</td>\n",
       "      <td>5.0</td>\n",
       "      <td>509.400000</td>\n",
       "      <td>...</td>\n",
       "      <td>0.00</td>\n",
       "      <td>0.00</td>\n",
       "      <td>4.0</td>\n",
       "      <td>16.750000</td>\n",
       "      <td>2.217356</td>\n",
       "      <td>14.0</td>\n",
       "      <td>15.50</td>\n",
       "      <td>17.0</td>\n",
       "      <td>18.25</td>\n",
       "      <td>19.0</td>\n",
       "    </tr>\n",
       "    <tr>\n",
       "      <th>0.04</th>\n",
       "      <td>1.0</td>\n",
       "      <td>1127.000000</td>\n",
       "      <td>NaN</td>\n",
       "      <td>1127.0</td>\n",
       "      <td>1127.00</td>\n",
       "      <td>1127.0</td>\n",
       "      <td>1127.00</td>\n",
       "      <td>1127.0</td>\n",
       "      <td>1.0</td>\n",
       "      <td>689.000000</td>\n",
       "      <td>...</td>\n",
       "      <td>0.02</td>\n",
       "      <td>0.02</td>\n",
       "      <td>1.0</td>\n",
       "      <td>28.000000</td>\n",
       "      <td>NaN</td>\n",
       "      <td>28.0</td>\n",
       "      <td>28.00</td>\n",
       "      <td>28.0</td>\n",
       "      <td>28.00</td>\n",
       "      <td>28.0</td>\n",
       "    </tr>\n",
       "    <tr>\n",
       "      <th>0.06</th>\n",
       "      <td>1.0</td>\n",
       "      <td>1701.000000</td>\n",
       "      <td>NaN</td>\n",
       "      <td>1701.0</td>\n",
       "      <td>1701.00</td>\n",
       "      <td>1701.0</td>\n",
       "      <td>1701.00</td>\n",
       "      <td>1701.0</td>\n",
       "      <td>1.0</td>\n",
       "      <td>1090.000000</td>\n",
       "      <td>...</td>\n",
       "      <td>0.02</td>\n",
       "      <td>0.02</td>\n",
       "      <td>1.0</td>\n",
       "      <td>25.000000</td>\n",
       "      <td>NaN</td>\n",
       "      <td>25.0</td>\n",
       "      <td>25.00</td>\n",
       "      <td>25.0</td>\n",
       "      <td>25.00</td>\n",
       "      <td>25.0</td>\n",
       "    </tr>\n",
       "    <tr>\n",
       "      <th>...</th>\n",
       "      <th>...</th>\n",
       "      <td>...</td>\n",
       "      <td>...</td>\n",
       "      <td>...</td>\n",
       "      <td>...</td>\n",
       "      <td>...</td>\n",
       "      <td>...</td>\n",
       "      <td>...</td>\n",
       "      <td>...</td>\n",
       "      <td>...</td>\n",
       "      <td>...</td>\n",
       "      <td>...</td>\n",
       "      <td>...</td>\n",
       "      <td>...</td>\n",
       "      <td>...</td>\n",
       "      <td>...</td>\n",
       "      <td>...</td>\n",
       "      <td>...</td>\n",
       "      <td>...</td>\n",
       "      <td>...</td>\n",
       "      <td>...</td>\n",
       "      <td>...</td>\n",
       "    </tr>\n",
       "    <tr>\n",
       "      <th rowspan=\"5\" valign=\"top\">Zimbabwe</th>\n",
       "      <th>0.17</th>\n",
       "      <td>1.0</td>\n",
       "      <td>25077.000000</td>\n",
       "      <td>NaN</td>\n",
       "      <td>25077.0</td>\n",
       "      <td>25077.00</td>\n",
       "      <td>25077.0</td>\n",
       "      <td>25077.00</td>\n",
       "      <td>25077.0</td>\n",
       "      <td>1.0</td>\n",
       "      <td>25077.000000</td>\n",
       "      <td>...</td>\n",
       "      <td>NaN</td>\n",
       "      <td>NaN</td>\n",
       "      <td>1.0</td>\n",
       "      <td>202.000000</td>\n",
       "      <td>NaN</td>\n",
       "      <td>202.0</td>\n",
       "      <td>202.00</td>\n",
       "      <td>202.0</td>\n",
       "      <td>202.00</td>\n",
       "      <td>202.0</td>\n",
       "    </tr>\n",
       "    <tr>\n",
       "      <th>0.19</th>\n",
       "      <td>1.0</td>\n",
       "      <td>27970.000000</td>\n",
       "      <td>NaN</td>\n",
       "      <td>27970.0</td>\n",
       "      <td>27970.00</td>\n",
       "      <td>27970.0</td>\n",
       "      <td>27970.00</td>\n",
       "      <td>27970.0</td>\n",
       "      <td>1.0</td>\n",
       "      <td>27970.000000</td>\n",
       "      <td>...</td>\n",
       "      <td>NaN</td>\n",
       "      <td>NaN</td>\n",
       "      <td>1.0</td>\n",
       "      <td>193.000000</td>\n",
       "      <td>NaN</td>\n",
       "      <td>193.0</td>\n",
       "      <td>193.00</td>\n",
       "      <td>193.0</td>\n",
       "      <td>193.00</td>\n",
       "      <td>193.0</td>\n",
       "    </tr>\n",
       "    <tr>\n",
       "      <th>0.21</th>\n",
       "      <td>2.0</td>\n",
       "      <td>30991.500000</td>\n",
       "      <td>471.640223</td>\n",
       "      <td>30658.0</td>\n",
       "      <td>30824.75</td>\n",
       "      <td>30991.5</td>\n",
       "      <td>31158.25</td>\n",
       "      <td>31325.0</td>\n",
       "      <td>2.0</td>\n",
       "      <td>30991.500000</td>\n",
       "      <td>...</td>\n",
       "      <td>NaN</td>\n",
       "      <td>NaN</td>\n",
       "      <td>2.0</td>\n",
       "      <td>184.500000</td>\n",
       "      <td>6.363961</td>\n",
       "      <td>180.0</td>\n",
       "      <td>182.25</td>\n",
       "      <td>184.5</td>\n",
       "      <td>186.75</td>\n",
       "      <td>189.0</td>\n",
       "    </tr>\n",
       "    <tr>\n",
       "      <th>0.22</th>\n",
       "      <td>2.0</td>\n",
       "      <td>32127.000000</td>\n",
       "      <td>159.806133</td>\n",
       "      <td>32014.0</td>\n",
       "      <td>32070.50</td>\n",
       "      <td>32127.0</td>\n",
       "      <td>32183.50</td>\n",
       "      <td>32240.0</td>\n",
       "      <td>2.0</td>\n",
       "      <td>32127.000000</td>\n",
       "      <td>...</td>\n",
       "      <td>NaN</td>\n",
       "      <td>NaN</td>\n",
       "      <td>2.0</td>\n",
       "      <td>143.000000</td>\n",
       "      <td>19.798990</td>\n",
       "      <td>129.0</td>\n",
       "      <td>136.00</td>\n",
       "      <td>143.0</td>\n",
       "      <td>150.00</td>\n",
       "      <td>157.0</td>\n",
       "    </tr>\n",
       "    <tr>\n",
       "      <th>0.24</th>\n",
       "      <td>7.0</td>\n",
       "      <td>36028.571429</td>\n",
       "      <td>324.485160</td>\n",
       "      <td>35518.0</td>\n",
       "      <td>35831.00</td>\n",
       "      <td>36019.0</td>\n",
       "      <td>36321.00</td>\n",
       "      <td>36359.0</td>\n",
       "      <td>7.0</td>\n",
       "      <td>36028.571429</td>\n",
       "      <td>...</td>\n",
       "      <td>NaN</td>\n",
       "      <td>NaN</td>\n",
       "      <td>7.0</td>\n",
       "      <td>70.857143</td>\n",
       "      <td>36.140598</td>\n",
       "      <td>40.0</td>\n",
       "      <td>45.00</td>\n",
       "      <td>52.0</td>\n",
       "      <td>89.50</td>\n",
       "      <td>135.0</td>\n",
       "    </tr>\n",
       "  </tbody>\n",
       "</table>\n",
       "<p>3779 rows × 64 columns</p>\n",
       "</div>"
      ],
      "text/plain": [
       "                                        total_vaccinations                \\\n",
       "                                                     count          mean   \n",
       "country  total_vaccinations_per_hundred                                    \n",
       "Albania  0.00                                          2.0     64.000000   \n",
       "         0.01                                          5.0    307.200000   \n",
       "         0.02                                          5.0    509.600000   \n",
       "         0.04                                          1.0   1127.000000   \n",
       "         0.06                                          1.0   1701.000000   \n",
       "...                                                    ...           ...   \n",
       "Zimbabwe 0.17                                          1.0  25077.000000   \n",
       "         0.19                                          1.0  27970.000000   \n",
       "         0.21                                          2.0  30991.500000   \n",
       "         0.22                                          2.0  32127.000000   \n",
       "         0.24                                          7.0  36028.571429   \n",
       "\n",
       "                                                                        \\\n",
       "                                                std      min       25%   \n",
       "country  total_vaccinations_per_hundred                                  \n",
       "Albania  0.00                             90.509668      0.0     32.00   \n",
       "         0.01                             85.572776    188.0    266.00   \n",
       "         0.02                             44.438722    447.0    483.00   \n",
       "         0.04                                   NaN   1127.0   1127.00   \n",
       "         0.06                                   NaN   1701.0   1701.00   \n",
       "...                                             ...      ...       ...   \n",
       "Zimbabwe 0.17                                   NaN  25077.0  25077.00   \n",
       "         0.19                                   NaN  27970.0  27970.00   \n",
       "         0.21                            471.640223  30658.0  30824.75   \n",
       "         0.22                            159.806133  32014.0  32070.50   \n",
       "         0.24                            324.485160  35518.0  35831.00   \n",
       "\n",
       "                                                                     \\\n",
       "                                             50%       75%      max   \n",
       "country  total_vaccinations_per_hundred                               \n",
       "Albania  0.00                               64.0     96.00    128.0   \n",
       "         0.01                              308.0    369.00    405.0   \n",
       "         0.02                              519.0    549.00    550.0   \n",
       "         0.04                             1127.0   1127.00   1127.0   \n",
       "         0.06                             1701.0   1701.00   1701.0   \n",
       "...                                          ...       ...      ...   \n",
       "Zimbabwe 0.17                            25077.0  25077.00  25077.0   \n",
       "         0.19                            27970.0  27970.00  27970.0   \n",
       "         0.21                            30991.5  31158.25  31325.0   \n",
       "         0.22                            32127.0  32183.50  32240.0   \n",
       "         0.24                            36019.0  36321.00  36359.0   \n",
       "\n",
       "                                        people_vaccinated                ...  \\\n",
       "                                                    count          mean  ...   \n",
       "country  total_vaccinations_per_hundred                                  ...   \n",
       "Albania  0.00                                         2.0     64.000000  ...   \n",
       "         0.01                                         5.0    307.200000  ...   \n",
       "         0.02                                         5.0    509.400000  ...   \n",
       "         0.04                                         1.0    689.000000  ...   \n",
       "         0.06                                         1.0   1090.000000  ...   \n",
       "...                                                   ...           ...  ...   \n",
       "Zimbabwe 0.17                                         1.0  25077.000000  ...   \n",
       "         0.19                                         1.0  27970.000000  ...   \n",
       "         0.21                                         2.0  30991.500000  ...   \n",
       "         0.22                                         2.0  32127.000000  ...   \n",
       "         0.24                                         7.0  36028.571429  ...   \n",
       "\n",
       "                                        people_fully_vaccinated_per_hundred  \\\n",
       "                                                                        75%   \n",
       "country  total_vaccinations_per_hundred                                       \n",
       "Albania  0.00                                                           NaN   \n",
       "         0.01                                                           NaN   \n",
       "         0.02                                                          0.00   \n",
       "         0.04                                                          0.02   \n",
       "         0.06                                                          0.02   \n",
       "...                                                                     ...   \n",
       "Zimbabwe 0.17                                                           NaN   \n",
       "         0.19                                                           NaN   \n",
       "         0.21                                                           NaN   \n",
       "         0.22                                                           NaN   \n",
       "         0.24                                                           NaN   \n",
       "\n",
       "                                              daily_vaccinations_per_million  \\\n",
       "                                          max                          count   \n",
       "country  total_vaccinations_per_hundred                                        \n",
       "Albania  0.00                             NaN                            1.0   \n",
       "         0.01                             NaN                            5.0   \n",
       "         0.02                            0.00                            4.0   \n",
       "         0.04                            0.02                            1.0   \n",
       "         0.06                            0.02                            1.0   \n",
       "...                                       ...                            ...   \n",
       "Zimbabwe 0.17                             NaN                            1.0   \n",
       "         0.19                             NaN                            1.0   \n",
       "         0.21                             NaN                            2.0   \n",
       "         0.22                             NaN                            2.0   \n",
       "         0.24                             NaN                            7.0   \n",
       "\n",
       "                                                                               \\\n",
       "                                               mean        std    min     25%   \n",
       "country  total_vaccinations_per_hundred                                         \n",
       "Albania  0.00                             22.000000        NaN   22.0   22.00   \n",
       "         0.01                             21.800000   1.095445   20.0   22.00   \n",
       "         0.02                             16.750000   2.217356   14.0   15.50   \n",
       "         0.04                             28.000000        NaN   28.0   28.00   \n",
       "         0.06                             25.000000        NaN   25.0   25.00   \n",
       "...                                             ...        ...    ...     ...   \n",
       "Zimbabwe 0.17                            202.000000        NaN  202.0  202.00   \n",
       "         0.19                            193.000000        NaN  193.0  193.00   \n",
       "         0.21                            184.500000   6.363961  180.0  182.25   \n",
       "         0.22                            143.000000  19.798990  129.0  136.00   \n",
       "         0.24                             70.857143  36.140598   40.0   45.00   \n",
       "\n",
       "                                                               \n",
       "                                           50%     75%    max  \n",
       "country  total_vaccinations_per_hundred                        \n",
       "Albania  0.00                             22.0   22.00   22.0  \n",
       "         0.01                             22.0   22.00   23.0  \n",
       "         0.02                             17.0   18.25   19.0  \n",
       "         0.04                             28.0   28.00   28.0  \n",
       "         0.06                             25.0   25.00   25.0  \n",
       "...                                        ...     ...    ...  \n",
       "Zimbabwe 0.17                            202.0  202.00  202.0  \n",
       "         0.19                            193.0  193.00  193.0  \n",
       "         0.21                            184.5  186.75  189.0  \n",
       "         0.22                            143.0  150.00  157.0  \n",
       "         0.24                             52.0   89.50  135.0  \n",
       "\n",
       "[3779 rows x 64 columns]"
      ]
     },
     "execution_count": 25,
     "metadata": {},
     "output_type": "execute_result"
    }
   ],
   "source": [
    "country_df.describe()"
   ]
  },
  {
   "cell_type": "code",
   "execution_count": 32,
   "metadata": {},
   "outputs": [
    {
     "data": {
      "image/png": "[encoded data removed]",
      "text/plain": [
       "<Figure size 648x360 with 2 Axes>"
      ]
     },
     "metadata": {
      "needs_background": "light"
     },
     "output_type": "display_data"
    }
   ],
   "source": [
    "sns.heatmap(country_df.describe()['people_vaccinated_per_hundred'], cmap='Blues');"
   ]
  },
  {
   "cell_type": "markdown",
   "metadata": {},
   "source": [
    "Plotted a *Heatmap* for the ```people_vaccinated_per_hundred``` based on the values like **count**, **mean**, **std**, **min**, **25%**, **50%**, **75%**, **max**."
   ]
  },
  {
   "cell_type": "markdown",
   "metadata": {},
   "source": [
    "Exploring one or more columns by plotting a graph below, and add some explanation about it"
   ]
  },
  {
   "cell_type": "code",
   "execution_count": 33,
   "metadata": {},
   "outputs": [],
   "source": [
    "top_df = vaccine_df.groupby(['country']).describe()"
   ]
  },
  {
   "cell_type": "code",
   "execution_count": 34,
   "metadata": {},
   "outputs": [
    {
     "data": {
      "text/html": [
       "<div>\n",
       "<style scoped>\n",
       "    .dataframe tbody tr th:only-of-type {\n",
       "        vertical-align: middle;\n",
       "    }\n",
       "\n",
       "    .dataframe tbody tr th {\n",
       "        vertical-align: top;\n",
       "    }\n",
       "\n",
       "    .dataframe thead th {\n",
       "        text-align: right;\n",
       "    }\n",
       "</style>\n",
       "<table border=\"1\" class=\"dataframe\">\n",
       "  <thead>\n",
       "    <tr style=\"text-align: right;\">\n",
       "      <th></th>\n",
       "      <th>count</th>\n",
       "      <th>mean</th>\n",
       "      <th>std</th>\n",
       "      <th>min</th>\n",
       "      <th>25%</th>\n",
       "      <th>50%</th>\n",
       "      <th>75%</th>\n",
       "      <th>max</th>\n",
       "    </tr>\n",
       "    <tr>\n",
       "      <th>country</th>\n",
       "      <th></th>\n",
       "      <th></th>\n",
       "      <th></th>\n",
       "      <th></th>\n",
       "      <th></th>\n",
       "      <th></th>\n",
       "      <th></th>\n",
       "      <th></th>\n",
       "    </tr>\n",
       "  </thead>\n",
       "  <tbody>\n",
       "    <tr>\n",
       "      <th>Gibraltar</th>\n",
       "      <td>61.0</td>\n",
       "      <td>70.368033</td>\n",
       "      <td>41.088088</td>\n",
       "      <td>1.25</td>\n",
       "      <td>34.4500</td>\n",
       "      <td>68.570</td>\n",
       "      <td>106.5300</td>\n",
       "      <td>136.94</td>\n",
       "    </tr>\n",
       "    <tr>\n",
       "      <th>Israel</th>\n",
       "      <td>86.0</td>\n",
       "      <td>53.750116</td>\n",
       "      <td>34.823687</td>\n",
       "      <td>0.00</td>\n",
       "      <td>22.1675</td>\n",
       "      <td>56.695</td>\n",
       "      <td>84.8950</td>\n",
       "      <td>108.31</td>\n",
       "    </tr>\n",
       "    <tr>\n",
       "      <th>Seychelles</th>\n",
       "      <td>37.0</td>\n",
       "      <td>46.474865</td>\n",
       "      <td>27.706670</td>\n",
       "      <td>0.00</td>\n",
       "      <td>23.1000</td>\n",
       "      <td>45.170</td>\n",
       "      <td>66.6800</td>\n",
       "      <td>89.59</td>\n",
       "    </tr>\n",
       "    <tr>\n",
       "      <th>United Arab Emirates</th>\n",
       "      <td>69.0</td>\n",
       "      <td>40.924058</td>\n",
       "      <td>19.246291</td>\n",
       "      <td>8.35</td>\n",
       "      <td>23.6500</td>\n",
       "      <td>44.630</td>\n",
       "      <td>59.1100</td>\n",
       "      <td>66.13</td>\n",
       "    </tr>\n",
       "    <tr>\n",
       "      <th>Falkland Islands</th>\n",
       "      <td>3.0</td>\n",
       "      <td>31.076667</td>\n",
       "      <td>27.092852</td>\n",
       "      <td>0.00</td>\n",
       "      <td>21.7500</td>\n",
       "      <td>43.500</td>\n",
       "      <td>46.6150</td>\n",
       "      <td>49.73</td>\n",
       "    </tr>\n",
       "    <tr>\n",
       "      <th>Cayman Islands</th>\n",
       "      <td>14.0</td>\n",
       "      <td>27.225000</td>\n",
       "      <td>11.481002</td>\n",
       "      <td>0.00</td>\n",
       "      <td>21.9850</td>\n",
       "      <td>26.965</td>\n",
       "      <td>31.8750</td>\n",
       "      <td>48.66</td>\n",
       "    </tr>\n",
       "    <tr>\n",
       "      <th>Bermuda</th>\n",
       "      <td>12.0</td>\n",
       "      <td>20.416667</td>\n",
       "      <td>15.083880</td>\n",
       "      <td>0.00</td>\n",
       "      <td>7.0725</td>\n",
       "      <td>18.590</td>\n",
       "      <td>33.5225</td>\n",
       "      <td>44.52</td>\n",
       "    </tr>\n",
       "    <tr>\n",
       "      <th>Guernsey</th>\n",
       "      <td>6.0</td>\n",
       "      <td>27.978333</td>\n",
       "      <td>11.255767</td>\n",
       "      <td>9.95</td>\n",
       "      <td>24.1175</td>\n",
       "      <td>29.330</td>\n",
       "      <td>32.1275</td>\n",
       "      <td>43.82</td>\n",
       "    </tr>\n",
       "    <tr>\n",
       "      <th>Wales</th>\n",
       "      <td>65.0</td>\n",
       "      <td>20.441385</td>\n",
       "      <td>12.810903</td>\n",
       "      <td>0.26</td>\n",
       "      <td>8.6100</td>\n",
       "      <td>20.900</td>\n",
       "      <td>31.1600</td>\n",
       "      <td>43.48</td>\n",
       "    </tr>\n",
       "    <tr>\n",
       "      <th>Jersey</th>\n",
       "      <td>7.0</td>\n",
       "      <td>24.795714</td>\n",
       "      <td>9.934237</td>\n",
       "      <td>11.26</td>\n",
       "      <td>17.7300</td>\n",
       "      <td>25.680</td>\n",
       "      <td>31.0800</td>\n",
       "      <td>39.01</td>\n",
       "    </tr>\n",
       "  </tbody>\n",
       "</table>\n",
       "</div>"
      ],
      "text/plain": [
       "                      count       mean        std    min      25%     50%  \\\n",
       "country                                                                     \n",
       "Gibraltar              61.0  70.368033  41.088088   1.25  34.4500  68.570   \n",
       "Israel                 86.0  53.750116  34.823687   0.00  22.1675  56.695   \n",
       "Seychelles             37.0  46.474865  27.706670   0.00  23.1000  45.170   \n",
       "United Arab Emirates   69.0  40.924058  19.246291   8.35  23.6500  44.630   \n",
       "Falkland Islands        3.0  31.076667  27.092852   0.00  21.7500  43.500   \n",
       "Cayman Islands         14.0  27.225000  11.481002   0.00  21.9850  26.965   \n",
       "Bermuda                12.0  20.416667  15.083880   0.00   7.0725  18.590   \n",
       "Guernsey                6.0  27.978333  11.255767   9.95  24.1175  29.330   \n",
       "Wales                  65.0  20.441385  12.810903   0.26   8.6100  20.900   \n",
       "Jersey                  7.0  24.795714   9.934237  11.26  17.7300  25.680   \n",
       "\n",
       "                           75%     max  \n",
       "country                                 \n",
       "Gibraltar             106.5300  136.94  \n",
       "Israel                 84.8950  108.31  \n",
       "Seychelles             66.6800   89.59  \n",
       "United Arab Emirates   59.1100   66.13  \n",
       "Falkland Islands       46.6150   49.73  \n",
       "Cayman Islands         31.8750   48.66  \n",
       "Bermuda                33.5225   44.52  \n",
       "Guernsey               32.1275   43.82  \n",
       "Wales                  31.1600   43.48  \n",
       "Jersey                 31.0800   39.01  "
      ]
     },
     "execution_count": 34,
     "metadata": {},
     "output_type": "execute_result"
    }
   ],
   "source": [
    "top_df.total_vaccinations_per_hundred.sort_values('max', ascending=False).head(10)"
   ]
  },
  {
   "cell_type": "markdown",
   "metadata": {},
   "source": [
    "We have sorted the top 10 countries using the ```sort_values()```.\n",
    "\n",
    "```ascending=False``` implies that we are sorting in the descending order.\n",
    "\n",
    "```.head()``` is used to specify the number of elements required."
   ]
  },
  {
   "cell_type": "markdown",
   "metadata": {},
   "source": [
    "We have sorted out the top 10 countries where there were maximum vaccines per hundred."
   ]
  },
  {
   "cell_type": "code",
   "execution_count": 35,
   "metadata": {},
   "outputs": [
    {
     "data": {
      "text/html": [
       "<div>\n",
       "<style scoped>\n",
       "    .dataframe tbody tr th:only-of-type {\n",
       "        vertical-align: middle;\n",
       "    }\n",
       "\n",
       "    .dataframe tbody tr th {\n",
       "        vertical-align: top;\n",
       "    }\n",
       "\n",
       "    .dataframe thead th {\n",
       "        text-align: right;\n",
       "    }\n",
       "</style>\n",
       "<table border=\"1\" class=\"dataframe\">\n",
       "  <thead>\n",
       "    <tr style=\"text-align: right;\">\n",
       "      <th></th>\n",
       "      <th>count</th>\n",
       "      <th>mean</th>\n",
       "      <th>std</th>\n",
       "      <th>min</th>\n",
       "      <th>25%</th>\n",
       "      <th>50%</th>\n",
       "      <th>75%</th>\n",
       "      <th>max</th>\n",
       "    </tr>\n",
       "    <tr>\n",
       "      <th>country</th>\n",
       "      <th></th>\n",
       "      <th></th>\n",
       "      <th></th>\n",
       "      <th></th>\n",
       "      <th></th>\n",
       "      <th></th>\n",
       "      <th></th>\n",
       "      <th></th>\n",
       "    </tr>\n",
       "  </thead>\n",
       "  <tbody>\n",
       "    <tr>\n",
       "      <th>Gibraltar</th>\n",
       "      <td>61.0</td>\n",
       "      <td>48.072131</td>\n",
       "      <td>23.038013</td>\n",
       "      <td>1.25</td>\n",
       "      <td>32.8700</td>\n",
       "      <td>45.820</td>\n",
       "      <td>67.4100</td>\n",
       "      <td>87.89</td>\n",
       "    </tr>\n",
       "    <tr>\n",
       "      <th>Seychelles</th>\n",
       "      <td>37.0</td>\n",
       "      <td>35.672703</td>\n",
       "      <td>17.587392</td>\n",
       "      <td>0.00</td>\n",
       "      <td>23.1000</td>\n",
       "      <td>38.360</td>\n",
       "      <td>44.7200</td>\n",
       "      <td>62.10</td>\n",
       "    </tr>\n",
       "    <tr>\n",
       "      <th>Israel</th>\n",
       "      <td>86.0</td>\n",
       "      <td>34.194651</td>\n",
       "      <td>18.236264</td>\n",
       "      <td>0.00</td>\n",
       "      <td>22.1500</td>\n",
       "      <td>35.675</td>\n",
       "      <td>50.3700</td>\n",
       "      <td>59.68</td>\n",
       "    </tr>\n",
       "    <tr>\n",
       "      <th>Falkland Islands</th>\n",
       "      <td>3.0</td>\n",
       "      <td>31.076667</td>\n",
       "      <td>27.092852</td>\n",
       "      <td>0.00</td>\n",
       "      <td>21.7500</td>\n",
       "      <td>43.500</td>\n",
       "      <td>46.6150</td>\n",
       "      <td>49.73</td>\n",
       "    </tr>\n",
       "    <tr>\n",
       "      <th>England</th>\n",
       "      <td>67.0</td>\n",
       "      <td>18.904776</td>\n",
       "      <td>10.921324</td>\n",
       "      <td>0.10</td>\n",
       "      <td>9.4300</td>\n",
       "      <td>19.140</td>\n",
       "      <td>28.4450</td>\n",
       "      <td>36.54</td>\n",
       "    </tr>\n",
       "    <tr>\n",
       "      <th>Jersey</th>\n",
       "      <td>7.0</td>\n",
       "      <td>21.602857</td>\n",
       "      <td>9.820254</td>\n",
       "      <td>8.25</td>\n",
       "      <td>14.6100</td>\n",
       "      <td>22.460</td>\n",
       "      <td>27.8100</td>\n",
       "      <td>35.67</td>\n",
       "    </tr>\n",
       "    <tr>\n",
       "      <th>United Kingdom</th>\n",
       "      <td>67.0</td>\n",
       "      <td>18.429851</td>\n",
       "      <td>10.735079</td>\n",
       "      <td>0.13</td>\n",
       "      <td>8.9950</td>\n",
       "      <td>18.630</td>\n",
       "      <td>27.8900</td>\n",
       "      <td>35.64</td>\n",
       "    </tr>\n",
       "    <tr>\n",
       "      <th>Wales</th>\n",
       "      <td>65.0</td>\n",
       "      <td>18.880462</td>\n",
       "      <td>10.919463</td>\n",
       "      <td>0.26</td>\n",
       "      <td>8.5900</td>\n",
       "      <td>20.790</td>\n",
       "      <td>28.6200</td>\n",
       "      <td>35.32</td>\n",
       "    </tr>\n",
       "    <tr>\n",
       "      <th>United Arab Emirates</th>\n",
       "      <td>2.0</td>\n",
       "      <td>21.825000</td>\n",
       "      <td>18.900964</td>\n",
       "      <td>8.46</td>\n",
       "      <td>15.1425</td>\n",
       "      <td>21.825</td>\n",
       "      <td>28.5075</td>\n",
       "      <td>35.19</td>\n",
       "    </tr>\n",
       "    <tr>\n",
       "      <th>Scotland</th>\n",
       "      <td>67.0</td>\n",
       "      <td>17.608209</td>\n",
       "      <td>11.132758</td>\n",
       "      <td>0.35</td>\n",
       "      <td>7.1850</td>\n",
       "      <td>16.990</td>\n",
       "      <td>27.9950</td>\n",
       "      <td>34.57</td>\n",
       "    </tr>\n",
       "  </tbody>\n",
       "</table>\n",
       "</div>"
      ],
      "text/plain": [
       "                      count       mean        std   min      25%     50%  \\\n",
       "country                                                                    \n",
       "Gibraltar              61.0  48.072131  23.038013  1.25  32.8700  45.820   \n",
       "Seychelles             37.0  35.672703  17.587392  0.00  23.1000  38.360   \n",
       "Israel                 86.0  34.194651  18.236264  0.00  22.1500  35.675   \n",
       "Falkland Islands        3.0  31.076667  27.092852  0.00  21.7500  43.500   \n",
       "England                67.0  18.904776  10.921324  0.10   9.4300  19.140   \n",
       "Jersey                  7.0  21.602857   9.820254  8.25  14.6100  22.460   \n",
       "United Kingdom         67.0  18.429851  10.735079  0.13   8.9950  18.630   \n",
       "Wales                  65.0  18.880462  10.919463  0.26   8.5900  20.790   \n",
       "United Arab Emirates    2.0  21.825000  18.900964  8.46  15.1425  21.825   \n",
       "Scotland               67.0  17.608209  11.132758  0.35   7.1850  16.990   \n",
       "\n",
       "                          75%    max  \n",
       "country                               \n",
       "Gibraltar             67.4100  87.89  \n",
       "Seychelles            44.7200  62.10  \n",
       "Israel                50.3700  59.68  \n",
       "Falkland Islands      46.6150  49.73  \n",
       "England               28.4450  36.54  \n",
       "Jersey                27.8100  35.67  \n",
       "United Kingdom        27.8900  35.64  \n",
       "Wales                 28.6200  35.32  \n",
       "United Arab Emirates  28.5075  35.19  \n",
       "Scotland              27.9950  34.57  "
      ]
     },
     "execution_count": 35,
     "metadata": {},
     "output_type": "execute_result"
    }
   ],
   "source": [
    "top_df.people_vaccinated_per_hundred.sort_values('max', ascending=False).head(10)"
   ]
  },
  {
   "cell_type": "markdown",
   "metadata": {},
   "source": [
    "Now, we have sorted the top 10 where maximum people per hundred were vaccinated."
   ]
  },
  {
   "cell_type": "code",
   "execution_count": 36,
   "metadata": {},
   "outputs": [
    {
     "data": {
      "text/html": [
       "<div>\n",
       "<style scoped>\n",
       "    .dataframe tbody tr th:only-of-type {\n",
       "        vertical-align: middle;\n",
       "    }\n",
       "\n",
       "    .dataframe tbody tr th {\n",
       "        vertical-align: top;\n",
       "    }\n",
       "\n",
       "    .dataframe thead th {\n",
       "        text-align: right;\n",
       "    }\n",
       "</style>\n",
       "<table border=\"1\" class=\"dataframe\">\n",
       "  <thead>\n",
       "    <tr style=\"text-align: right;\">\n",
       "      <th></th>\n",
       "      <th>count</th>\n",
       "      <th>mean</th>\n",
       "      <th>std</th>\n",
       "      <th>min</th>\n",
       "      <th>25%</th>\n",
       "      <th>50%</th>\n",
       "      <th>75%</th>\n",
       "      <th>max</th>\n",
       "    </tr>\n",
       "    <tr>\n",
       "      <th>country</th>\n",
       "      <th></th>\n",
       "      <th></th>\n",
       "      <th></th>\n",
       "      <th></th>\n",
       "      <th></th>\n",
       "      <th></th>\n",
       "      <th></th>\n",
       "      <th></th>\n",
       "    </tr>\n",
       "  </thead>\n",
       "  <tbody>\n",
       "    <tr>\n",
       "      <th>United States</th>\n",
       "      <td>70.0</td>\n",
       "      <td>3.113198e+07</td>\n",
       "      <td>1.997109e+07</td>\n",
       "      <td>556208.0</td>\n",
       "      <td>14466145.00</td>\n",
       "      <td>30915032.0</td>\n",
       "      <td>45865079.75</td>\n",
       "      <td>69784210.0</td>\n",
       "    </tr>\n",
       "    <tr>\n",
       "      <th>India</th>\n",
       "      <td>58.0</td>\n",
       "      <td>8.738207e+06</td>\n",
       "      <td>6.715672e+06</td>\n",
       "      <td>0.0</td>\n",
       "      <td>3561103.75</td>\n",
       "      <td>8006216.5</td>\n",
       "      <td>11830973.50</td>\n",
       "      <td>24452385.0</td>\n",
       "    </tr>\n",
       "    <tr>\n",
       "      <th>United Kingdom</th>\n",
       "      <td>67.0</td>\n",
       "      <td>1.251169e+07</td>\n",
       "      <td>7.287469e+06</td>\n",
       "      <td>86465.0</td>\n",
       "      <td>6107336.00</td>\n",
       "      <td>12646486.0</td>\n",
       "      <td>18934695.00</td>\n",
       "      <td>24196211.0</td>\n",
       "    </tr>\n",
       "    <tr>\n",
       "      <th>England</th>\n",
       "      <td>67.0</td>\n",
       "      <td>1.064105e+07</td>\n",
       "      <td>6.147545e+06</td>\n",
       "      <td>55576.0</td>\n",
       "      <td>5307436.00</td>\n",
       "      <td>10771998.0</td>\n",
       "      <td>16011048.00</td>\n",
       "      <td>20568821.0</td>\n",
       "    </tr>\n",
       "    <tr>\n",
       "      <th>Brazil</th>\n",
       "      <td>54.0</td>\n",
       "      <td>4.083905e+06</td>\n",
       "      <td>2.699921e+06</td>\n",
       "      <td>0.0</td>\n",
       "      <td>1723591.50</td>\n",
       "      <td>4456172.5</td>\n",
       "      <td>6180561.75</td>\n",
       "      <td>8561847.0</td>\n",
       "    </tr>\n",
       "    <tr>\n",
       "      <th>Turkey</th>\n",
       "      <td>31.0</td>\n",
       "      <td>6.258680e+06</td>\n",
       "      <td>1.550386e+06</td>\n",
       "      <td>3067822.0</td>\n",
       "      <td>5444038.50</td>\n",
       "      <td>6854642.0</td>\n",
       "      <td>7517433.00</td>\n",
       "      <td>7892795.0</td>\n",
       "    </tr>\n",
       "    <tr>\n",
       "      <th>Germany</th>\n",
       "      <td>76.0</td>\n",
       "      <td>2.308754e+06</td>\n",
       "      <td>1.624705e+06</td>\n",
       "      <td>21257.0</td>\n",
       "      <td>1064136.75</td>\n",
       "      <td>2053546.0</td>\n",
       "      <td>3297625.25</td>\n",
       "      <td>6113484.0</td>\n",
       "    </tr>\n",
       "    <tr>\n",
       "      <th>Russia</th>\n",
       "      <td>19.0</td>\n",
       "      <td>3.891130e+06</td>\n",
       "      <td>1.977893e+06</td>\n",
       "      <td>28500.0</td>\n",
       "      <td>3170166.00</td>\n",
       "      <td>4908178.0</td>\n",
       "      <td>5211120.00</td>\n",
       "      <td>5545133.0</td>\n",
       "    </tr>\n",
       "    <tr>\n",
       "      <th>Israel</th>\n",
       "      <td>86.0</td>\n",
       "      <td>2.959734e+06</td>\n",
       "      <td>1.578475e+06</td>\n",
       "      <td>61.0</td>\n",
       "      <td>1917436.75</td>\n",
       "      <td>3087961.0</td>\n",
       "      <td>4359789.75</td>\n",
       "      <td>5165723.0</td>\n",
       "    </tr>\n",
       "    <tr>\n",
       "      <th>France</th>\n",
       "      <td>77.0</td>\n",
       "      <td>1.715776e+06</td>\n",
       "      <td>1.392106e+06</td>\n",
       "      <td>13.0</td>\n",
       "      <td>364846.00</td>\n",
       "      <td>1687026.0</td>\n",
       "      <td>2603702.00</td>\n",
       "      <td>5072244.0</td>\n",
       "    </tr>\n",
       "  </tbody>\n",
       "</table>\n",
       "</div>"
      ],
      "text/plain": [
       "                count          mean           std        min          25%  \\\n",
       "country                                                                     \n",
       "United States    70.0  3.113198e+07  1.997109e+07   556208.0  14466145.00   \n",
       "India            58.0  8.738207e+06  6.715672e+06        0.0   3561103.75   \n",
       "United Kingdom   67.0  1.251169e+07  7.287469e+06    86465.0   6107336.00   \n",
       "England          67.0  1.064105e+07  6.147545e+06    55576.0   5307436.00   \n",
       "Brazil           54.0  4.083905e+06  2.699921e+06        0.0   1723591.50   \n",
       "Turkey           31.0  6.258680e+06  1.550386e+06  3067822.0   5444038.50   \n",
       "Germany          76.0  2.308754e+06  1.624705e+06    21257.0   1064136.75   \n",
       "Russia           19.0  3.891130e+06  1.977893e+06    28500.0   3170166.00   \n",
       "Israel           86.0  2.959734e+06  1.578475e+06       61.0   1917436.75   \n",
       "France           77.0  1.715776e+06  1.392106e+06       13.0    364846.00   \n",
       "\n",
       "                       50%          75%         max  \n",
       "country                                              \n",
       "United States   30915032.0  45865079.75  69784210.0  \n",
       "India            8006216.5  11830973.50  24452385.0  \n",
       "United Kingdom  12646486.0  18934695.00  24196211.0  \n",
       "England         10771998.0  16011048.00  20568821.0  \n",
       "Brazil           4456172.5   6180561.75   8561847.0  \n",
       "Turkey           6854642.0   7517433.00   7892795.0  \n",
       "Germany          2053546.0   3297625.25   6113484.0  \n",
       "Russia           4908178.0   5211120.00   5545133.0  \n",
       "Israel           3087961.0   4359789.75   5165723.0  \n",
       "France           1687026.0   2603702.00   5072244.0  "
      ]
     },
     "execution_count": 36,
     "metadata": {},
     "output_type": "execute_result"
    }
   ],
   "source": [
    "top_df.people_vaccinated.sort_values('max', ascending=False).head(10)"
   ]
  },
  {
   "cell_type": "markdown",
   "metadata": {},
   "source": [
    "Total people vaccinated were maximum in United States- **69784210** and then in India- **24452385** with a great variation. France is in the 10th position with **5072244** being vaccinated."
   ]
  },
  {
   "cell_type": "code",
   "execution_count": 174,
   "metadata": {},
   "outputs": [],
   "source": [
    "import jovian"
   ]
  },
  {
   "cell_type": "code",
   "execution_count": 175,
   "metadata": {},
   "outputs": [
    {
     "data": {
      "application/javascript": [
       "window.require && require([\"base/js/namespace\"],function(Jupyter){Jupyter.notebook.save_checkpoint()})"
      ],
      "text/plain": [
       "<IPython.core.display.Javascript object>"
      ]
     },
     "metadata": {},
     "output_type": "display_data"
    },
    {
     "name": "stdout",
     "output_type": "stream",
     "text": [
      "[jovian] Attempting to save notebook..\u001b[0m\n",
      "[jovian] Updating notebook \"kumar-223/covid-19-world-vaccine-data-analysis\" on https://jovian.ai\u001b[0m\n",
      "[jovian] Uploading notebook..\u001b[0m\n",
      "[jovian] Uploading additional files...\u001b[0m\n",
      "[jovian] Committed successfully! https://jovian.ai/kumar-223/covid-19-world-vaccine-data-analysis\u001b[0m\n"
     ]
    },
    {
     "data": {
      "text/plain": [
       "'https://jovian.ai/kumar-223/covid-19-world-vaccine-data-analysis'"
      ]
     },
     "execution_count": 175,
     "metadata": {},
     "output_type": "execute_result"
    }
   ],
   "source": [
    "jovian.commit()"
   ]
  },
  {
   "cell_type": "markdown",
   "metadata": {},
   "source": [
    "## Asking and Answering Questions\n",
    "\n",
    "Asking a few questions about our dataset and answering the most asked questions."
   ]
  },
  {
   "cell_type": "markdown",
   "metadata": {},
   "source": [
    "#### Q1: Top 10 countries in which more people were vaccinated"
   ]
  },
  {
   "cell_type": "code",
   "execution_count": 39,
   "metadata": {},
   "outputs": [],
   "source": [
    "top_df = vaccine_df.groupby(['country']).describe()"
   ]
  },
  {
   "cell_type": "code",
   "execution_count": 40,
   "metadata": {},
   "outputs": [],
   "source": [
    "vaccines = top_df.people_vaccinated.sort_values('max', ascending=False).head(10)"
   ]
  },
  {
   "cell_type": "code",
   "execution_count": 41,
   "metadata": {},
   "outputs": [],
   "source": [
    "vaccines.drop(['count', 'mean', 'std', 'min', '25%', '50%', '75%'], inplace=True, axis = 1)"
   ]
  },
  {
   "cell_type": "code",
   "execution_count": 42,
   "metadata": {},
   "outputs": [
    {
     "data": {
      "text/html": [
       "<div>\n",
       "<style scoped>\n",
       "    .dataframe tbody tr th:only-of-type {\n",
       "        vertical-align: middle;\n",
       "    }\n",
       "\n",
       "    .dataframe tbody tr th {\n",
       "        vertical-align: top;\n",
       "    }\n",
       "\n",
       "    .dataframe thead th {\n",
       "        text-align: right;\n",
       "    }\n",
       "</style>\n",
       "<table border=\"1\" class=\"dataframe\">\n",
       "  <thead>\n",
       "    <tr style=\"text-align: right;\">\n",
       "      <th></th>\n",
       "      <th>country</th>\n",
       "      <th>max</th>\n",
       "    </tr>\n",
       "  </thead>\n",
       "  <tbody>\n",
       "    <tr>\n",
       "      <th>0</th>\n",
       "      <td>United States</td>\n",
       "      <td>69784210.0</td>\n",
       "    </tr>\n",
       "    <tr>\n",
       "      <th>1</th>\n",
       "      <td>India</td>\n",
       "      <td>24452385.0</td>\n",
       "    </tr>\n",
       "    <tr>\n",
       "      <th>2</th>\n",
       "      <td>United Kingdom</td>\n",
       "      <td>24196211.0</td>\n",
       "    </tr>\n",
       "    <tr>\n",
       "      <th>3</th>\n",
       "      <td>England</td>\n",
       "      <td>20568821.0</td>\n",
       "    </tr>\n",
       "    <tr>\n",
       "      <th>4</th>\n",
       "      <td>Brazil</td>\n",
       "      <td>8561847.0</td>\n",
       "    </tr>\n",
       "    <tr>\n",
       "      <th>5</th>\n",
       "      <td>Turkey</td>\n",
       "      <td>7892795.0</td>\n",
       "    </tr>\n",
       "    <tr>\n",
       "      <th>6</th>\n",
       "      <td>Germany</td>\n",
       "      <td>6113484.0</td>\n",
       "    </tr>\n",
       "    <tr>\n",
       "      <th>7</th>\n",
       "      <td>Russia</td>\n",
       "      <td>5545133.0</td>\n",
       "    </tr>\n",
       "    <tr>\n",
       "      <th>8</th>\n",
       "      <td>Israel</td>\n",
       "      <td>5165723.0</td>\n",
       "    </tr>\n",
       "    <tr>\n",
       "      <th>9</th>\n",
       "      <td>France</td>\n",
       "      <td>5072244.0</td>\n",
       "    </tr>\n",
       "  </tbody>\n",
       "</table>\n",
       "</div>"
      ],
      "text/plain": [
       "          country         max\n",
       "0   United States  69784210.0\n",
       "1           India  24452385.0\n",
       "2  United Kingdom  24196211.0\n",
       "3         England  20568821.0\n",
       "4          Brazil   8561847.0\n",
       "5          Turkey   7892795.0\n",
       "6         Germany   6113484.0\n",
       "7          Russia   5545133.0\n",
       "8          Israel   5165723.0\n",
       "9          France   5072244.0"
      ]
     },
     "execution_count": 42,
     "metadata": {},
     "output_type": "execute_result"
    }
   ],
   "source": [
    "vaccines.reset_index()"
   ]
  },
  {
   "cell_type": "code",
   "execution_count": 54,
   "metadata": {},
   "outputs": [],
   "source": [
    "country = ['U.S', 'U.K', 'England', 'India', 'Turkey', 'Brazil', 'Isreal', 'Germany', 'U.A.E', 'Chile']"
   ]
  },
  {
   "cell_type": "code",
   "execution_count": 55,
   "metadata": {},
   "outputs": [
    {
     "data": {
      "image/png": "[encoded data removed]",
      "text/plain": [
       "<Figure size 648x360 with 1 Axes>"
      ]
     },
     "metadata": {
      "needs_background": "light"
     },
     "output_type": "display_data"
    }
   ],
   "source": [
    "plt.bar(country, max);\n",
    "plt.xticks(rotation = 90);"
   ]
  },
  {
   "cell_type": "markdown",
   "metadata": {},
   "source": [
    "```plt.xticks(rotation= θ)```  rotates the names on the x-axis by the given angle **θ**."
   ]
  },
  {
   "cell_type": "markdown",
   "metadata": {},
   "source": [
    "#### Q2: Top 10 countries in which most people per million are vaccinated"
   ]
  },
  {
   "cell_type": "code",
   "execution_count": 56,
   "metadata": {},
   "outputs": [],
   "source": [
    "vaccines_per_million = top_df.daily_vaccinations_per_million.sort_values('max', ascending=False).head(10)"
   ]
  },
  {
   "cell_type": "code",
   "execution_count": 57,
   "metadata": {},
   "outputs": [],
   "source": [
    "vaccines_per_million.drop(['count', 'mean', 'std', 'min', '25%', '50%', '75%'], inplace=True, axis = 1)"
   ]
  },
  {
   "cell_type": "code",
   "execution_count": 58,
   "metadata": {},
   "outputs": [
    {
     "data": {
      "text/html": [
       "<div>\n",
       "<style scoped>\n",
       "    .dataframe tbody tr th:only-of-type {\n",
       "        vertical-align: middle;\n",
       "    }\n",
       "\n",
       "    .dataframe tbody tr th {\n",
       "        vertical-align: top;\n",
       "    }\n",
       "\n",
       "    .dataframe thead th {\n",
       "        text-align: right;\n",
       "    }\n",
       "</style>\n",
       "<table border=\"1\" class=\"dataframe\">\n",
       "  <thead>\n",
       "    <tr style=\"text-align: right;\">\n",
       "      <th></th>\n",
       "      <th>max</th>\n",
       "    </tr>\n",
       "    <tr>\n",
       "      <th>country</th>\n",
       "      <th></th>\n",
       "    </tr>\n",
       "  </thead>\n",
       "  <tbody>\n",
       "    <tr>\n",
       "      <th>Falkland Islands</th>\n",
       "      <td>54264.0</td>\n",
       "    </tr>\n",
       "    <tr>\n",
       "      <th>Gibraltar</th>\n",
       "      <td>31700.0</td>\n",
       "    </tr>\n",
       "    <tr>\n",
       "      <th>Seychelles</th>\n",
       "      <td>24415.0</td>\n",
       "    </tr>\n",
       "    <tr>\n",
       "      <th>Anguilla</th>\n",
       "      <td>22064.0</td>\n",
       "    </tr>\n",
       "    <tr>\n",
       "      <th>Israel</th>\n",
       "      <td>21352.0</td>\n",
       "    </tr>\n",
       "    <tr>\n",
       "      <th>United Arab Emirates</th>\n",
       "      <td>15703.0</td>\n",
       "    </tr>\n",
       "    <tr>\n",
       "      <th>Chile</th>\n",
       "      <td>14629.0</td>\n",
       "    </tr>\n",
       "    <tr>\n",
       "      <th>Maldives</th>\n",
       "      <td>14397.0</td>\n",
       "    </tr>\n",
       "    <tr>\n",
       "      <th>Cayman Islands</th>\n",
       "      <td>13968.0</td>\n",
       "    </tr>\n",
       "    <tr>\n",
       "      <th>Bermuda</th>\n",
       "      <td>12413.0</td>\n",
       "    </tr>\n",
       "  </tbody>\n",
       "</table>\n",
       "</div>"
      ],
      "text/plain": [
       "                          max\n",
       "country                      \n",
       "Falkland Islands      54264.0\n",
       "Gibraltar             31700.0\n",
       "Seychelles            24415.0\n",
       "Anguilla              22064.0\n",
       "Israel                21352.0\n",
       "United Arab Emirates  15703.0\n",
       "Chile                 14629.0\n",
       "Maldives              14397.0\n",
       "Cayman Islands        13968.0\n",
       "Bermuda               12413.0"
      ]
     },
     "execution_count": 58,
     "metadata": {},
     "output_type": "execute_result"
    }
   ],
   "source": [
    "vaccines_per_million"
   ]
  },
  {
   "cell_type": "code",
   "execution_count": 59,
   "metadata": {},
   "outputs": [],
   "source": [
    "country = ['Falkland Islands', 'Gibraltar', 'Seychelles', 'Anguilla', 'Israel', 'U.A.E', 'Scotland', 'Maldives', 'Chile', 'Bermuda']"
   ]
  },
  {
   "cell_type": "code",
   "execution_count": 75,
   "metadata": {},
   "outputs": [
    {
     "data": {
      "image/png": "[encoded data removed]",
      "text/plain": [
       "<Figure size 648x360 with 1 Axes>"
      ]
     },
     "metadata": {
      "needs_background": "light"
     },
     "output_type": "display_data"
    }
   ],
   "source": [
    "plt.bar(country, vaccines_per_million['max'], color=(0.4, 0.9, 0.5, 0.9));\n",
    "plt.xticks(rotation=90);"
   ]
  },
  {
   "cell_type": "markdown",
   "metadata": {},
   "source": [
    "We can change the color of the pplot by mentioning ```color=(  ,  ,  ,  )``` in which the first three represent the ratio of **RGB** (Red Blue Green) and the last represents the opacity of the plot."
   ]
  },
  {
   "cell_type": "markdown",
   "metadata": {},
   "source": [
    "#### Q3:  In which country were the people least vaccinated?"
   ]
  },
  {
   "cell_type": "code",
   "execution_count": 61,
   "metadata": {},
   "outputs": [],
   "source": [
    "least_df = vaccine_df.groupby(['country']).describe()"
   ]
  },
  {
   "cell_type": "code",
   "execution_count": 62,
   "metadata": {},
   "outputs": [],
   "source": [
    "total_vaccines = least_df.total_vaccinations.sort_values('max').head(10)"
   ]
  },
  {
   "cell_type": "code",
   "execution_count": 63,
   "metadata": {},
   "outputs": [
    {
     "data": {
      "text/html": [
       "<div>\n",
       "<style scoped>\n",
       "    .dataframe tbody tr th:only-of-type {\n",
       "        vertical-align: middle;\n",
       "    }\n",
       "\n",
       "    .dataframe tbody tr th {\n",
       "        vertical-align: top;\n",
       "    }\n",
       "\n",
       "    .dataframe thead th {\n",
       "        text-align: right;\n",
       "    }\n",
       "</style>\n",
       "<table border=\"1\" class=\"dataframe\">\n",
       "  <thead>\n",
       "    <tr style=\"text-align: right;\">\n",
       "      <th></th>\n",
       "      <th>count</th>\n",
       "      <th>mean</th>\n",
       "      <th>std</th>\n",
       "      <th>min</th>\n",
       "      <th>25%</th>\n",
       "      <th>50%</th>\n",
       "      <th>75%</th>\n",
       "      <th>max</th>\n",
       "    </tr>\n",
       "    <tr>\n",
       "      <th>country</th>\n",
       "      <th></th>\n",
       "      <th></th>\n",
       "      <th></th>\n",
       "      <th></th>\n",
       "      <th></th>\n",
       "      <th></th>\n",
       "      <th></th>\n",
       "      <th></th>\n",
       "    </tr>\n",
       "  </thead>\n",
       "  <tbody>\n",
       "    <tr>\n",
       "      <th>Saint Helena</th>\n",
       "      <td>1.0</td>\n",
       "      <td>107.000000</td>\n",
       "      <td>NaN</td>\n",
       "      <td>107.0</td>\n",
       "      <td>107.00</td>\n",
       "      <td>107.0</td>\n",
       "      <td>107.00</td>\n",
       "      <td>107.0</td>\n",
       "    </tr>\n",
       "    <tr>\n",
       "      <th>Trinidad and Tobago</th>\n",
       "      <td>2.0</td>\n",
       "      <td>220.000000</td>\n",
       "      <td>311.126984</td>\n",
       "      <td>0.0</td>\n",
       "      <td>110.00</td>\n",
       "      <td>220.0</td>\n",
       "      <td>330.00</td>\n",
       "      <td>440.0</td>\n",
       "    </tr>\n",
       "    <tr>\n",
       "      <th>Montserrat</th>\n",
       "      <td>2.0</td>\n",
       "      <td>326.000000</td>\n",
       "      <td>461.033621</td>\n",
       "      <td>0.0</td>\n",
       "      <td>163.00</td>\n",
       "      <td>326.0</td>\n",
       "      <td>489.00</td>\n",
       "      <td>652.0</td>\n",
       "    </tr>\n",
       "    <tr>\n",
       "      <th>Uganda</th>\n",
       "      <td>3.0</td>\n",
       "      <td>743.333333</td>\n",
       "      <td>651.466295</td>\n",
       "      <td>0.0</td>\n",
       "      <td>507.50</td>\n",
       "      <td>1015.0</td>\n",
       "      <td>1115.00</td>\n",
       "      <td>1215.0</td>\n",
       "    </tr>\n",
       "    <tr>\n",
       "      <th>Egypt</th>\n",
       "      <td>2.0</td>\n",
       "      <td>657.500000</td>\n",
       "      <td>929.845417</td>\n",
       "      <td>0.0</td>\n",
       "      <td>328.75</td>\n",
       "      <td>657.5</td>\n",
       "      <td>986.25</td>\n",
       "      <td>1315.0</td>\n",
       "    </tr>\n",
       "    <tr>\n",
       "      <th>Falkland Islands</th>\n",
       "      <td>3.0</td>\n",
       "      <td>1082.333333</td>\n",
       "      <td>943.586951</td>\n",
       "      <td>0.0</td>\n",
       "      <td>757.50</td>\n",
       "      <td>1515.0</td>\n",
       "      <td>1623.50</td>\n",
       "      <td>1732.0</td>\n",
       "    </tr>\n",
       "    <tr>\n",
       "      <th>Guyana</th>\n",
       "      <td>3.0</td>\n",
       "      <td>840.000000</td>\n",
       "      <td>937.904046</td>\n",
       "      <td>0.0</td>\n",
       "      <td>334.00</td>\n",
       "      <td>668.0</td>\n",
       "      <td>1260.00</td>\n",
       "      <td>1852.0</td>\n",
       "    </tr>\n",
       "    <tr>\n",
       "      <th>Tunisia</th>\n",
       "      <td>3.0</td>\n",
       "      <td>939.666667</td>\n",
       "      <td>1051.880380</td>\n",
       "      <td>0.0</td>\n",
       "      <td>371.50</td>\n",
       "      <td>743.0</td>\n",
       "      <td>1409.50</td>\n",
       "      <td>2076.0</td>\n",
       "    </tr>\n",
       "    <tr>\n",
       "      <th>Saint Lucia</th>\n",
       "      <td>2.0</td>\n",
       "      <td>1047.000000</td>\n",
       "      <td>1480.681600</td>\n",
       "      <td>0.0</td>\n",
       "      <td>523.50</td>\n",
       "      <td>1047.0</td>\n",
       "      <td>1570.50</td>\n",
       "      <td>2094.0</td>\n",
       "    </tr>\n",
       "    <tr>\n",
       "      <th>Monaco</th>\n",
       "      <td>2.0</td>\n",
       "      <td>1200.000000</td>\n",
       "      <td>1697.056275</td>\n",
       "      <td>0.0</td>\n",
       "      <td>600.00</td>\n",
       "      <td>1200.0</td>\n",
       "      <td>1800.00</td>\n",
       "      <td>2400.0</td>\n",
       "    </tr>\n",
       "  </tbody>\n",
       "</table>\n",
       "</div>"
      ],
      "text/plain": [
       "                     count         mean          std    min     25%     50%  \\\n",
       "country                                                                       \n",
       "Saint Helena           1.0   107.000000          NaN  107.0  107.00   107.0   \n",
       "Trinidad and Tobago    2.0   220.000000   311.126984    0.0  110.00   220.0   \n",
       "Montserrat             2.0   326.000000   461.033621    0.0  163.00   326.0   \n",
       "Uganda                 3.0   743.333333   651.466295    0.0  507.50  1015.0   \n",
       "Egypt                  2.0   657.500000   929.845417    0.0  328.75   657.5   \n",
       "Falkland Islands       3.0  1082.333333   943.586951    0.0  757.50  1515.0   \n",
       "Guyana                 3.0   840.000000   937.904046    0.0  334.00   668.0   \n",
       "Tunisia                3.0   939.666667  1051.880380    0.0  371.50   743.0   \n",
       "Saint Lucia            2.0  1047.000000  1480.681600    0.0  523.50  1047.0   \n",
       "Monaco                 2.0  1200.000000  1697.056275    0.0  600.00  1200.0   \n",
       "\n",
       "                         75%     max  \n",
       "country                               \n",
       "Saint Helena          107.00   107.0  \n",
       "Trinidad and Tobago   330.00   440.0  \n",
       "Montserrat            489.00   652.0  \n",
       "Uganda               1115.00  1215.0  \n",
       "Egypt                 986.25  1315.0  \n",
       "Falkland Islands     1623.50  1732.0  \n",
       "Guyana               1260.00  1852.0  \n",
       "Tunisia              1409.50  2076.0  \n",
       "Saint Lucia          1570.50  2094.0  \n",
       "Monaco               1800.00  2400.0  "
      ]
     },
     "execution_count": 63,
     "metadata": {},
     "output_type": "execute_result"
    }
   ],
   "source": [
    "total_vaccines"
   ]
  },
  {
   "cell_type": "code",
   "execution_count": 64,
   "metadata": {},
   "outputs": [],
   "source": [
    "countries = ['New Zealand', 'Saint Helena', 'Ukraine', 'Trinidad and Tobago', 'Egypt', 'Falkland Islands', 'Liechtenstien', 'Guyana', 'Macao', 'Andorra']"
   ]
  },
  {
   "cell_type": "code",
   "execution_count": 71,
   "metadata": {},
   "outputs": [
    {
     "data": {
      "image/png": "[encoded data removed]",
      "text/plain": [
       "<Figure size 648x360 with 1 Axes>"
      ]
     },
     "metadata": {
      "needs_background": "light"
     },
     "output_type": "display_data"
    }
   ],
   "source": [
    "plt.bar(countries, total_vaccines['max'], color=(0.8, 0.3, 0.6, 0.9));\n",
    "plt.xticks(rotation=90);"
   ]
  },
  {
   "cell_type": "markdown",
   "metadata": {},
   "source": [
    "#### Q4: 10 countries in which the min vaccines given is 0?"
   ]
  },
  {
   "cell_type": "code",
   "execution_count": 76,
   "metadata": {},
   "outputs": [],
   "source": [
    "min_df = vaccine_df.groupby(['country']).describe()"
   ]
  },
  {
   "cell_type": "code",
   "execution_count": 77,
   "metadata": {},
   "outputs": [],
   "source": [
    "min_10 = min_df.total_vaccinations.sort_values('min').head(10)"
   ]
  },
  {
   "cell_type": "code",
   "execution_count": 78,
   "metadata": {},
   "outputs": [],
   "source": [
    "min_10.drop(['count', 'mean', 'std', '25%', '50%', '75%', 'max'], inplace=True, axis = 1)"
   ]
  },
  {
   "cell_type": "code",
   "execution_count": 79,
   "metadata": {},
   "outputs": [
    {
     "data": {
      "text/html": [
       "<div>\n",
       "<style scoped>\n",
       "    .dataframe tbody tr th:only-of-type {\n",
       "        vertical-align: middle;\n",
       "    }\n",
       "\n",
       "    .dataframe tbody tr th {\n",
       "        vertical-align: top;\n",
       "    }\n",
       "\n",
       "    .dataframe thead th {\n",
       "        text-align: right;\n",
       "    }\n",
       "</style>\n",
       "<table border=\"1\" class=\"dataframe\">\n",
       "  <thead>\n",
       "    <tr style=\"text-align: right;\">\n",
       "      <th></th>\n",
       "      <th>min</th>\n",
       "    </tr>\n",
       "    <tr>\n",
       "      <th>country</th>\n",
       "      <th></th>\n",
       "    </tr>\n",
       "  </thead>\n",
       "  <tbody>\n",
       "    <tr>\n",
       "      <th>Albania</th>\n",
       "      <td>0.0</td>\n",
       "    </tr>\n",
       "    <tr>\n",
       "      <th>Nepal</th>\n",
       "      <td>0.0</td>\n",
       "    </tr>\n",
       "    <tr>\n",
       "      <th>Myanmar</th>\n",
       "      <td>0.0</td>\n",
       "    </tr>\n",
       "    <tr>\n",
       "      <th>Morocco</th>\n",
       "      <td>0.0</td>\n",
       "    </tr>\n",
       "    <tr>\n",
       "      <th>Montserrat</th>\n",
       "      <td>0.0</td>\n",
       "    </tr>\n",
       "    <tr>\n",
       "      <th>Montenegro</th>\n",
       "      <td>0.0</td>\n",
       "    </tr>\n",
       "    <tr>\n",
       "      <th>Mongolia</th>\n",
       "      <td>0.0</td>\n",
       "    </tr>\n",
       "    <tr>\n",
       "      <th>Monaco</th>\n",
       "      <td>0.0</td>\n",
       "    </tr>\n",
       "    <tr>\n",
       "      <th>Mauritius</th>\n",
       "      <td>0.0</td>\n",
       "    </tr>\n",
       "    <tr>\n",
       "      <th>Malaysia</th>\n",
       "      <td>0.0</td>\n",
       "    </tr>\n",
       "  </tbody>\n",
       "</table>\n",
       "</div>"
      ],
      "text/plain": [
       "            min\n",
       "country        \n",
       "Albania     0.0\n",
       "Nepal       0.0\n",
       "Myanmar     0.0\n",
       "Morocco     0.0\n",
       "Montserrat  0.0\n",
       "Montenegro  0.0\n",
       "Mongolia    0.0\n",
       "Monaco      0.0\n",
       "Mauritius   0.0\n",
       "Malaysia    0.0"
      ]
     },
     "execution_count": 79,
     "metadata": {},
     "output_type": "execute_result"
    }
   ],
   "source": [
    "min_10"
   ]
  },
  {
   "cell_type": "markdown",
   "metadata": {},
   "source": [
    "These are the 10 countries in which the minimum people vaccinated were \"zero\".\n",
    "\n",
    "In this case, we have ```ascending=True``` which sorted the list in ascending order."
   ]
  },
  {
   "cell_type": "markdown",
   "metadata": {},
   "source": [
    "#### Q5: Top 10 countries and the vaccines they use?"
   ]
  },
  {
   "cell_type": "code",
   "execution_count": 80,
   "metadata": {},
   "outputs": [],
   "source": [
    "country_vaccines_df = vaccine_df.groupby(['country', 'vaccines'])"
   ]
  },
  {
   "cell_type": "code",
   "execution_count": 81,
   "metadata": {},
   "outputs": [],
   "source": [
    "total = country_vaccines_df.describe().total_vaccinations"
   ]
  },
  {
   "cell_type": "code",
   "execution_count": 82,
   "metadata": {},
   "outputs": [],
   "source": [
    "country_total = total.drop(['count', 'mean', 'std', 'min', '25%', '50%', '75%'], inplace=True, axis = 1)"
   ]
  },
  {
   "cell_type": "code",
   "execution_count": 103,
   "metadata": {},
   "outputs": [
    {
     "data": {
      "text/html": [
       "<div>\n",
       "<style scoped>\n",
       "    .dataframe tbody tr th:only-of-type {\n",
       "        vertical-align: middle;\n",
       "    }\n",
       "\n",
       "    .dataframe tbody tr th {\n",
       "        vertical-align: top;\n",
       "    }\n",
       "\n",
       "    .dataframe thead th {\n",
       "        text-align: right;\n",
       "    }\n",
       "</style>\n",
       "<table border=\"1\" class=\"dataframe\">\n",
       "  <thead>\n",
       "    <tr style=\"text-align: right;\">\n",
       "      <th></th>\n",
       "      <th>country</th>\n",
       "      <th>vaccines</th>\n",
       "      <th>max</th>\n",
       "    </tr>\n",
       "  </thead>\n",
       "  <tbody>\n",
       "    <tr>\n",
       "      <th>0</th>\n",
       "      <td>Albania</td>\n",
       "      <td>Pfizer/BioNTech</td>\n",
       "      <td>23635.0</td>\n",
       "    </tr>\n",
       "    <tr>\n",
       "      <th>1</th>\n",
       "      <td>Algeria</td>\n",
       "      <td>Sputnik V</td>\n",
       "      <td>75000.0</td>\n",
       "    </tr>\n",
       "    <tr>\n",
       "      <th>2</th>\n",
       "      <td>Andorra</td>\n",
       "      <td>Pfizer/BioNTech</td>\n",
       "      <td>4914.0</td>\n",
       "    </tr>\n",
       "    <tr>\n",
       "      <th>3</th>\n",
       "      <td>Angola</td>\n",
       "      <td>Oxford/AstraZeneca</td>\n",
       "      <td>6169.0</td>\n",
       "    </tr>\n",
       "    <tr>\n",
       "      <th>4</th>\n",
       "      <td>Anguilla</td>\n",
       "      <td>Oxford/AstraZeneca</td>\n",
       "      <td>3929.0</td>\n",
       "    </tr>\n",
       "    <tr>\n",
       "      <th>...</th>\n",
       "      <td>...</td>\n",
       "      <td>...</td>\n",
       "      <td>...</td>\n",
       "    </tr>\n",
       "    <tr>\n",
       "      <th>131</th>\n",
       "      <td>Uruguay</td>\n",
       "      <td>Pfizer/BioNTech, Sinovac</td>\n",
       "      <td>204169.0</td>\n",
       "    </tr>\n",
       "    <tr>\n",
       "      <th>132</th>\n",
       "      <td>Venezuela</td>\n",
       "      <td>Sputnik V</td>\n",
       "      <td>12194.0</td>\n",
       "    </tr>\n",
       "    <tr>\n",
       "      <th>133</th>\n",
       "      <td>Vietnam</td>\n",
       "      <td>Oxford/AstraZeneca</td>\n",
       "      <td>5248.0</td>\n",
       "    </tr>\n",
       "    <tr>\n",
       "      <th>134</th>\n",
       "      <td>Wales</td>\n",
       "      <td>Oxford/AstraZeneca, Pfizer/BioNTech</td>\n",
       "      <td>1370896.0</td>\n",
       "    </tr>\n",
       "    <tr>\n",
       "      <th>135</th>\n",
       "      <td>Zimbabwe</td>\n",
       "      <td>Sinopharm/Beijing</td>\n",
       "      <td>36359.0</td>\n",
       "    </tr>\n",
       "  </tbody>\n",
       "</table>\n",
       "<p>136 rows × 3 columns</p>\n",
       "</div>"
      ],
      "text/plain": [
       "       country                             vaccines        max\n",
       "0      Albania                      Pfizer/BioNTech    23635.0\n",
       "1      Algeria                            Sputnik V    75000.0\n",
       "2      Andorra                      Pfizer/BioNTech     4914.0\n",
       "3       Angola                   Oxford/AstraZeneca     6169.0\n",
       "4     Anguilla                   Oxford/AstraZeneca     3929.0\n",
       "..         ...                                  ...        ...\n",
       "131    Uruguay             Pfizer/BioNTech, Sinovac   204169.0\n",
       "132  Venezuela                            Sputnik V    12194.0\n",
       "133    Vietnam                   Oxford/AstraZeneca     5248.0\n",
       "134      Wales  Oxford/AstraZeneca, Pfizer/BioNTech  1370896.0\n",
       "135   Zimbabwe                    Sinopharm/Beijing    36359.0\n",
       "\n",
       "[136 rows x 3 columns]"
      ]
     },
     "execution_count": 103,
     "metadata": {},
     "output_type": "execute_result"
    }
   ],
   "source": [
    "total.reset_index()"
   ]
  },
  {
   "cell_type": "code",
   "execution_count": 117,
   "metadata": {},
   "outputs": [],
   "source": [
    "top_vaccines = total.sort_values('max', ascending=False).head(10)"
   ]
  },
  {
   "cell_type": "code",
   "execution_count": 145,
   "metadata": {},
   "outputs": [
    {
     "data": {
      "image/png": "[encoded data removed]",
      "text/plain": [
       "<Figure size 648x360 with 1 Axes>"
      ]
     },
     "metadata": {
      "needs_background": "light"
     },
     "output_type": "display_data"
    }
   ],
   "source": [
    "sns.barplot(x=top_vaccines['country'], y=top_vaccines['max'], data = top_vaccines);\n",
    "plt.xticks(rotation=90);\n",
    "plt.legend(top_vaccines['vaccines'], title='VACCINES', bbox_to_anchor=(1.05, 1), loc='upper left');"
   ]
  },
  {
   "cell_type": "markdown",
   "metadata": {},
   "source": [
    "Mostly used vaccines(all over the world) by the top 10 countries were plotted."
   ]
  },
  {
   "cell_type": "markdown",
   "metadata": {},
   "source": [
    "### Q6: Which vaccine is mostly used in all countries?"
   ]
  },
  {
   "cell_type": "code",
   "execution_count": 146,
   "metadata": {},
   "outputs": [],
   "source": [
    "vaccine_names = vaccine_df.groupby('vaccines')"
   ]
  },
  {
   "cell_type": "code",
   "execution_count": 147,
   "metadata": {},
   "outputs": [],
   "source": [
    "names = vaccine_names.total_vaccinations.describe() "
   ]
  },
  {
   "cell_type": "code",
   "execution_count": 148,
   "metadata": {},
   "outputs": [],
   "source": [
    "y = names.reset_index('vaccines')"
   ]
  },
  {
   "cell_type": "code",
   "execution_count": 149,
   "metadata": {},
   "outputs": [],
   "source": [
    "y.drop(['count', 'mean', 'std', 'min', '25%', '50%', '75%'], inplace=True, axis = 1)"
   ]
  },
  {
   "cell_type": "code",
   "execution_count": 151,
   "metadata": {},
   "outputs": [],
   "source": [
    "vaccine_df.drop(['date', 'total_vaccinations', 'people_vaccinated', 'people_fully_vaccinated', 'daily_vaccinations_raw', 'daily_vaccinations', 'total_vaccinations_per_hundred', 'people_vaccinated_per_hundred'], inplace=True, axis = 1)"
   ]
  },
  {
   "cell_type": "code",
   "execution_count": 152,
   "metadata": {},
   "outputs": [],
   "source": [
    "vaccine_df.drop(['source_name', 'source_website'], inplace=True, axis=1)"
   ]
  },
  {
   "cell_type": "code",
   "execution_count": 153,
   "metadata": {},
   "outputs": [],
   "source": [
    "vaccine_df.drop(['people_fully_vaccinated_per_hundred', 'daily_vaccinations_per_million'], inplace=True, axis=1)"
   ]
  },
  {
   "cell_type": "code",
   "execution_count": 155,
   "metadata": {},
   "outputs": [],
   "source": [
    "vaccine_names = vaccine_df['vaccines'].value_counts()"
   ]
  },
  {
   "cell_type": "code",
   "execution_count": 156,
   "metadata": {},
   "outputs": [
    {
     "data": {
      "text/plain": [
       "Moderna, Oxford/AstraZeneca, Pfizer/BioNTech                                          1581\n",
       "Pfizer/BioNTech                                                                       1183\n",
       "Oxford/AstraZeneca, Pfizer/BioNTech                                                    891\n",
       "Oxford/AstraZeneca                                                                     511\n",
       "Moderna, Pfizer/BioNTech                                                               377\n",
       "Sputnik V                                                                              211\n",
       "Sinovac                                                                                191\n",
       "Pfizer/BioNTech, Sinovac                                                               154\n",
       "Oxford/AstraZeneca, Pfizer/BioNTech, Sinopharm/Beijing, Sputnik V                      148\n",
       "Sinopharm/Beijing                                                                      119\n",
       "Oxford/AstraZeneca, Sinopharm/Beijing                                                  107\n",
       "Oxford/AstraZeneca, Sinopharm/Beijing, Sputnik V                                        96\n",
       "EpiVacCorona, Sputnik V                                                                 90\n",
       "Johnson&Johnson, Moderna, Pfizer/BioNTech                                               85\n",
       "Oxford/AstraZeneca, Pfizer/BioNTech, Sputnik V                                          81\n",
       "Moderna, Oxford/AstraZeneca, Pfizer/BioNTech, Sinopharm/Beijing, Sputnik V              77\n",
       "Sinopharm/Beijing, Sinopharm/Wuhan, Sinovac                                             76\n",
       "Oxford/AstraZeneca, Sinovac                                                             73\n",
       "Oxford/AstraZeneca, Pfizer/BioNTech, Sinopharm/Beijing, Sinopharm/Wuhan, Sputnik V      69\n",
       "Covaxin, Oxford/AstraZeneca                                                             59\n",
       "Pfizer/BioNTech, Sinopharm/Beijing                                                      45\n",
       "Pfizer/ BioNTech, Sinopharm/Beijing                                                     34\n",
       "Johnson&Johnson                                                                         26\n",
       "Sinopharm/Beijing, Sputnik V                                                            23\n",
       "Moderna                                                                                 18\n",
       "Name: vaccines, dtype: int64"
      ]
     },
     "execution_count": 156,
     "metadata": {},
     "output_type": "execute_result"
    }
   ],
   "source": [
    "vaccine_names"
   ]
  },
  {
   "cell_type": "code",
   "execution_count": 159,
   "metadata": {},
   "outputs": [
    {
     "data": {
      "image/png": "[encoded data removed]",
      "text/plain": [
       "<Figure size 648x360 with 1 Axes>"
      ]
     },
     "metadata": {},
     "output_type": "display_data"
    }
   ],
   "source": [
    "plt.pie(vaccine_names, radius=2.5, rotatelabels=45, labels=vaccine_names);"
   ]
  },
  {
   "cell_type": "markdown",
   "metadata": {},
   "source": [
    "From the above *Pie-Chart*, we can visualise that ***Pfizer/BioNTech*** is the most used vaccine all over the world with ***Moderna*** at the last."
   ]
  },
  {
   "cell_type": "code",
   "execution_count": 176,
   "metadata": {},
   "outputs": [],
   "source": [
    "import jovian"
   ]
  },
  {
   "cell_type": "code",
   "execution_count": 177,
   "metadata": {},
   "outputs": [
    {
     "data": {
      "application/javascript": [
       "window.require && require([\"base/js/namespace\"],function(Jupyter){Jupyter.notebook.save_checkpoint()})"
      ],
      "text/plain": [
       "<IPython.core.display.Javascript object>"
      ]
     },
     "metadata": {},
     "output_type": "display_data"
    },
    {
     "name": "stdout",
     "output_type": "stream",
     "text": [
      "[jovian] Attempting to save notebook..\u001b[0m\n",
      "[jovian] Updating notebook \"kumar-223/covid-19-world-vaccine-data-analysis\" on https://jovian.ai\u001b[0m\n",
      "[jovian] Uploading notebook..\u001b[0m\n",
      "[jovian] Uploading additional files...\u001b[0m\n",
      "[jovian] Committed successfully! https://jovian.ai/kumar-223/covid-19-world-vaccine-data-analysis\u001b[0m\n"
     ]
    },
    {
     "data": {
      "text/plain": [
       "'https://jovian.ai/kumar-223/covid-19-world-vaccine-data-analysis'"
      ]
     },
     "execution_count": 177,
     "metadata": {},
     "output_type": "execute_result"
    }
   ],
   "source": [
    "jovian.commit()"
   ]
  },
  {
   "cell_type": "markdown",
   "metadata": {},
   "source": [
    "# Conclusion\n",
    "\n",
    "The impact of COVID-19 vaccines on the pandemic will depend on several factors. COVID-19 vaccines have high levels of efficacy, like all other vaccines, COVID-19 vaccines may not be 100% effective but it reduces the impact to a great extent. The impact of the virus has decreased and is being controlled. Vaccination is mandatory for everyone to prevent this pandemic to spread once angain and create chaos!"
   ]
  },
  {
   "cell_type": "markdown",
   "metadata": {},
   "source": [
    "## References \n",
    "\n",
    "Some of the links to resources which I found useful during the course.\n",
    "\n",
    "- *https://www.kaggle.com/*\n",
    "- *https://stackoverflow.com/*\n",
    "- *https://matplotlib.org/*\n",
    "- *https://seaborn.pydata.org/*\n",
    "- *https://pandas.pydata.org/pandas-docs/stable/*\n",
    "- *https://numpy.org/doc/stable/*"
   ]
  },
  {
   "cell_type": "code",
   "execution_count": 178,
   "metadata": {},
   "outputs": [],
   "source": [
    "import jovian"
   ]
  },
  {
   "cell_type": "code",
   "execution_count": 179,
   "metadata": {
    "scrolled": true
   },
   "outputs": [
    {
     "data": {
      "application/javascript": [
       "window.require && require([\"base/js/namespace\"],function(Jupyter){Jupyter.notebook.save_checkpoint()})"
      ],
      "text/plain": [
       "<IPython.core.display.Javascript object>"
      ]
     },
     "metadata": {},
     "output_type": "display_data"
    },
    {
     "name": "stdout",
     "output_type": "stream",
     "text": [
      "[jovian] Attempting to save notebook..\u001b[0m\n",
      "[jovian] Updating notebook \"kumar-223/covid-19-world-vaccine-data-analysis\" on https://jovian.ai\u001b[0m\n",
      "[jovian] Uploading notebook..\u001b[0m\n",
      "[jovian] Uploading additional files...\u001b[0m\n",
      "[jovian] Committed successfully! https://jovian.ai/kumar-223/covid-19-world-vaccine-data-analysis\u001b[0m\n"
     ]
    },
    {
     "data": {
      "text/plain": [
       "'https://jovian.ai/kumar-223/covid-19-world-vaccine-data-analysis'"
      ]
     },
     "execution_count": 179,
     "metadata": {},
     "output_type": "execute_result"
    }
   ],
   "source": [
    "jovian.commit()"
   ]
  },
  {
   "cell_type": "code",
   "execution_count": null,
   "metadata": {},
   "outputs": [
    {
     "data": {
      "application/javascript": [
       "window.require && require([\"base/js/namespace\"],function(Jupyter){Jupyter.notebook.save_checkpoint()})"
      ],
      "text/plain": [
       "<IPython.core.display.Javascript object>"
      ]
     },
     "metadata": {},
     "output_type": "display_data"
    },
    {
     "name": "stdout",
     "output_type": "stream",
     "text": [
      "[jovian] Attempting to save notebook..\u001b[0m\n"
     ]
    }
   ],
   "source": [
    "jovian.submit(assignment=\"zero-to-pandas-project\")"
   ]
  },
  {
   "cell_type": "code",
   "execution_count": null,
   "metadata": {},
   "outputs": [],
   "source": []
  }
 ],
 "metadata": {
  "language_info": {
   "codemirror_mode": {
    "name": "ipython",
    "version": 3
   },
   "file_extension": ".py",
   "mimetype": "text/x-python",
   "name": "python",
   "nbconvert_exporter": "python",
   "pygments_lexer": "ipython3",
   "version": "3.8.6"
  }
 },
 "nbformat": 4,
 "nbformat_minor": 4
}